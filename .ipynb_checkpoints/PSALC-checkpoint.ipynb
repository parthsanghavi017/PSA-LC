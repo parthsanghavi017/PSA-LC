{
 "cells": [
  {
   "cell_type": "markdown",
   "id": "73da361d-e3c8-4003-a368-78009b5a4aac",
   "metadata": {},
   "source": [
    "## Data Preprocessing"
   ]
  },
  {
   "cell_type": "markdown",
   "id": "4877dd84-b909-45a5-beee-8f9a31fd24f1",
   "metadata": {
    "jp-MarkdownHeadingCollapsed": true
   },
   "source": [
    "### LC"
   ]
  },
  {
   "cell_type": "code",
   "execution_count": 3,
   "id": "32ba4402-b7fd-4d0a-9860-f25bd64b88f0",
   "metadata": {},
   "outputs": [
    {
     "name": "stdout",
     "output_type": "stream",
     "text": [
      "         Symbol  HC1  HC2  HC3  HC4  HC5  LC1  HC6  HC7  LC2  ...  LC16  LC17  \\\n",
      "0         OR4F5    0    0    0    0    0    0    0    0    0  ...     0     0   \n",
      "1  LOC112268260    0   32    9   11   14   25   61    8   16  ...    17    17   \n",
      "2        OR4F29    0    0    0    0    0    0    0    0    0  ...     0     0   \n",
      "3  LOC105378947    0    2    1    1    0    2   19    2    0  ...     1     0   \n",
      "4        OR4F16    0   13    3    9    3    5   29    8    5  ...    10    13   \n",
      "\n",
      "   LC18  LC19  HC12  HC13  LC20  LC21  LC22  LC23  \n",
      "0     0     0     0     0     0     0     0     0  \n",
      "1    11     7    26    28    21    20    28    14  \n",
      "2     0     0     1     0     0     0     0     0  \n",
      "3     0     0     1     4     1     0     2     2  \n",
      "4     1     3    12    18    16    15     9     6  \n",
      "\n",
      "[5 rows x 37 columns]\n"
     ]
    },
    {
     "name": "stderr",
     "output_type": "stream",
     "text": [
      "C:\\Users\\user\\AppData\\Local\\Temp\\ipykernel_13460\\4227129484.py:5: DtypeWarning: Columns (8,9) have mixed types. Specify dtype option on import or set low_memory=False.\n",
      "  annot_df = pd.read_csv(annot_file, sep='\\t')\n"
     ]
    }
   ],
   "source": [
    "import pandas as pd\n",
    "\n",
    "# Step 1: Read the annotation file\n",
    "annot_file = 'LC/Human.GRCh38.p13.annot.tsv'\n",
    "annot_df = pd.read_csv(annot_file, sep='\\t')\n",
    "\n",
    "# Step 2: Filter for protein-coding genes\n",
    "protein_coding_df = annot_df[annot_df['GeneType'] == 'protein-coding'][['GeneID', 'Symbol']]\n",
    "\n",
    "# Step 3: Read the second TSV file\n",
    "data_file = 'LC/GSE224615_raw_counts_GRCh38.p13_NCBI.tsv'  # Replace with your actual file name\n",
    "data_df = pd.read_csv(data_file, sep='\\t')\n",
    "\n",
    "# Step 4: Merge the dataframes on GeneID\n",
    "merged_df = pd.merge(data_df, protein_coding_df, on='GeneID', how='inner')\n",
    "\n",
    "# Step 5: Drop GeneID and keep Symbol\n",
    "final_df = merged_df.drop(columns=['GeneID'])\n",
    "\n",
    "# Step 6: Reorder columns to have Symbol first\n",
    "cols = ['Symbol'] + [col for col in final_df.columns if col != 'Symbol']\n",
    "final_df = final_df[cols]\n",
    "\n",
    "# Step 7: Save the result to a new TSV file\n",
    "final_df.to_csv('LC/GSE224615_raw_counts_GRCh38.p13_NCBI_processed.tsv', sep='\\t', index=False)\n",
    "\n",
    "# Optional: Display the first few rows\n",
    "print(final_df.head())"
   ]
  },
  {
   "cell_type": "code",
   "execution_count": 4,
   "id": "7dae3ea4-7fba-4daa-a311-3352f14ffcd8",
   "metadata": {},
   "outputs": [
    {
     "name": "stdout",
     "output_type": "stream",
     "text": [
      "         Symbol  HC1  HC2  HC3  HC4  HC5  HC6  HC7  LC1  LC2  LC3  LC4  LC5  \\\n",
      "0         OR4F5    0    0    0    0    0    0    0    0    0    0    0    0   \n",
      "1  LOC112268260    2    3    3    6    0    5    3   13    7    5    3    5   \n",
      "2        OR4F29    0    0    0    0    0    0    0    0    0    0    0    0   \n",
      "3  LOC105378947    0    1    0    0    1    3    0    1    0    0    0    1   \n",
      "4        OR4F16    1    0    1    0    0    0    1    1    1    1    1    1   \n",
      "\n",
      "   LC6  LC7  LC8  LC9  LC10  LC11  \n",
      "0    0    0    0    0     0     0  \n",
      "1    9    2    8    5     6     5  \n",
      "2    0    0    0    0     0     0  \n",
      "3    1    1    1    1     1     0  \n",
      "4    0    0    1    1     1     1  \n"
     ]
    }
   ],
   "source": [
    "# Step 3: Read the second TSV file\n",
    "data_file = 'LC/GSE251849_raw_counts_GRCh38.p13_NCBI.tsv'  # Replace with your actual file name\n",
    "data_df = pd.read_csv(data_file, sep='\\t')\n",
    "\n",
    "# Step 4: Merge the dataframes on GeneID\n",
    "merged_df = pd.merge(data_df, protein_coding_df, on='GeneID', how='inner')\n",
    "\n",
    "# Step 5: Drop GeneID and keep Symbol\n",
    "final_df = merged_df.drop(columns=['GeneID'])\n",
    "\n",
    "# Step 6: Reorder columns to have Symbol first\n",
    "cols = ['Symbol'] + [col for col in final_df.columns if col != 'Symbol']\n",
    "final_df = final_df[cols]\n",
    "\n",
    "# Step 7: Save the result to a new TSV file\n",
    "final_df.to_csv('LC/GSE251849_raw_counts_GRCh38.p13_NCBI_processed.tsv', sep='\\t', index=False)\n",
    "\n",
    "# Optional: Display the first few rows\n",
    "print(final_df.head())"
   ]
  },
  {
   "cell_type": "markdown",
   "id": "9fce464c-2fed-48a8-8396-5b5123906e18",
   "metadata": {},
   "source": [
    "### PsA"
   ]
  },
  {
   "cell_type": "code",
   "execution_count": 1,
   "id": "d6730f4a-e56c-4c47-a526-3e153ed35a2b",
   "metadata": {},
   "outputs": [
    {
     "name": "stderr",
     "output_type": "stream",
     "text": [
      "C:\\Users\\user\\AppData\\Local\\Temp\\ipykernel_20184\\936715413.py:6: DtypeWarning: Columns (8,9) have mixed types. Specify dtype option on import or set low_memory=False.\n",
      "  annot_df = pd.read_csv(annot_file, sep='\\t')\n",
      "Input sequence provided is already in string format. No operation performed\n",
      "Input sequence provided is already in string format. No operation performed\n"
     ]
    },
    {
     "name": "stdout",
     "output_type": "stream",
     "text": [
      "Annotation file columns: ['GeneID', 'Symbol', 'Description', 'Synonyms', 'GeneType', 'EnsemblGeneID', 'Status', 'ChrAcc', 'ChrStart', 'ChrStop', 'Orientation', 'Length', 'GOFunctionID', 'GOProcessID', 'GOComponentID', 'GOFunction', 'GOProcess', 'GOComponent']\n",
      "Unique GeneType values: ['pseudo' 'ncRNA' 'protein-coding' nan 'snoRNA' 'snRNA' 'tRNA' 'other'\n",
      " 'unknown' 'rRNA' 'scRNA']\n",
      "Number of protein-coding genes: 19416\n",
      "Missing Symbols in protein-coding annotation: 0\n",
      "CSV columns: ['EnsemblGeneID', 'HC1', 'HC2', 'HC3', 'HC4', 'HC5', 'HC6', 'HC7', 'HC8', 'HC9', 'PA1', 'PA2', 'PA3', 'PA4', 'PA5', 'PA6', 'PA7', 'PA8', 'PA9', 'PA10', 'PA11', 'PA12', 'PA13', 'PA14', 'PA15', 'PA16', 'PA17', 'PA18']\n",
      "Sample EnsemblGeneID: ['ENSG00000282222', 'ENSG00000282221', 'ENSG00000111671', 'ENSG00000110514', 'ENSG00000086015']\n",
      "Total genes in CSV: 58302\n",
      "Rows after merge: 58313\n",
      "Missing Symbols after merge: 39136\n",
      "Number of unmatched EnsemblGeneID: 39136\n",
      "Sample unmatched EnsemblGeneID: ['ENSG00000282222', 'ENSG00000282221', 'ENSG00000211769', 'ENSG00000211768', 'ENSG00000211767']\n",
      "Querying 39136 missing Ensembl IDs with mygene...\n"
     ]
    },
    {
     "name": "stderr",
     "output_type": "stream",
     "text": [
      "30 input query terms found dup hits:\t[('ENSG00000261600', 2), ('ENSG00000277927', 3), ('ENSG00000233656', 2), ('ENSG00000278932', 3), ('E\n",
      "1592 input query terms found no hit:\t['ENSG00000262558', 'ENSG00000262554', 'ENSG00000250567', 'ENSG00000283689', 'ENSG00000259166', 'ENS\n"
     ]
    },
    {
     "name": "stdout",
     "output_type": "stream",
     "text": [
      "Retrieved symbols from mygene: 39191\n",
      "Missing Symbols after mygene: 14027\n",
      "CSV with Symbols saved as 'PSA/GSE205748_read_count_processed.csv'\n",
      "  Symbol   HC1   HC2   HC3   HC4   HC5   HC6   HC7   HC8   HC9  ...   PA9  \\\n",
      "0    NaN     0     0     0     0     0     0     0     0     0  ...     0   \n",
      "1    NaN    17    16    10    27    31    27    23    22    21  ...    31   \n",
      "2  SPSB2   157   228   245   274   253   232   327   319   262  ...   151   \n",
      "3   MADD  1308  1727  1989  1017  2042  1662  2042  2075  2106  ...  1697   \n",
      "4  MAST2   822  1229  1352   798  1161  1353  1801  1443  1052  ...   936   \n",
      "\n",
      "   PA10  PA11  PA12  PA13  PA14  PA15  PA16  PA17  PA18  \n",
      "0     0     0     0     0     0     0     0     0     0  \n",
      "1    22    28    15    21    28    16    26    19    18  \n",
      "2   167   250   205   159   344   205   203   222   138  \n",
      "3  1724  2058  1700  1550  1948  2188  2136  1885  1697  \n",
      "4   883   834   667   601   899   750   881   734   832  \n",
      "\n",
      "[5 rows x 28 columns]\n",
      "Unmatched EnsemblGeneID saved to 'PSA/unmatched_ensembl_ids.csv'\n"
     ]
    }
   ],
   "source": [
    "import pandas as pd\n",
    "import mygene\n",
    "\n",
    "# Step 1: Read the annotation file and filter for protein-coding genes\n",
    "annot_file = 'LC/Human.GRCh38.p13.annot.tsv'\n",
    "annot_df = pd.read_csv(annot_file, sep='\\t')\n",
    "\n",
    "# Debug: Check annotation file columns and unique GeneType values\n",
    "print(\"Annotation file columns:\", annot_df.columns.tolist())\n",
    "print(\"Unique GeneType values:\", annot_df['GeneType'].unique())\n",
    "print(\"Number of protein-coding genes:\", len(annot_df[annot_df['GeneType'] == 'protein-coding']))\n",
    "\n",
    "# Filter for protein-coding genes\n",
    "protein_coding_df = annot_df[annot_df['GeneType'] == 'protein-coding'][['EnsemblGeneID', 'Symbol']]\n",
    "# Debug: Check for missing Symbols in annotation\n",
    "print(\"Missing Symbols in protein-coding annotation:\", protein_coding_df['Symbol'].isna().sum())\n",
    "\n",
    "# Step 2: Read the CSV file\n",
    "csv_file = 'PSA/GSE205748_read_counts.csv'\n",
    "ensembl_df = pd.read_csv(csv_file, sep='\\t')\n",
    "ensembl_df.rename(columns={'ID': 'EnsemblGeneID'}, inplace=True)\n",
    "\n",
    "# Debug: Check CSV columns and sample EnsemblGeneID\n",
    "print(\"CSV columns:\", ensembl_df.columns.tolist())\n",
    "print(\"Sample EnsemblGeneID:\", ensembl_df['EnsemblGeneID'].head().tolist())\n",
    "print(\"Total genes in CSV:\", len(ensembl_df))\n",
    "\n",
    "# Step 3: Merge to map EnsemblGeneID to Symbol (use left join to keep all CSV rows)\n",
    "merged_ensembl_df = pd.merge(ensembl_df, protein_coding_df, on='EnsemblGeneID', how='left')\n",
    "\n",
    "# Debug: Check merge results\n",
    "print(\"Rows after merge:\", len(merged_ensembl_df))\n",
    "print(\"Missing Symbols after merge:\", merged_ensembl_df['Symbol'].isna().sum())\n",
    "unmatched_ids = merged_ensembl_df[merged_ensembl_df['Symbol'].isna()]['EnsemblGeneID'].unique()\n",
    "print(\"Number of unmatched EnsemblGeneID:\", len(unmatched_ids))\n",
    "print(\"Sample unmatched EnsemblGeneID:\", unmatched_ids[:5].tolist())\n",
    "\n",
    "# Step 4: Handle missing Symbols with mygene\n",
    "if len(unmatched_ids) > 0:\n",
    "    print(f\"Querying {len(unmatched_ids)} missing Ensembl IDs with mygene...\")\n",
    "    mg = mygene.MyGeneInfo()\n",
    "    try:\n",
    "        gene_info = mg.querymany(unmatched_ids, scopes='ensembl.gene', fields='symbol', species='human', as_dataframe=True)\n",
    "        if not gene_info.empty:\n",
    "            gene_info = gene_info.reset_index()[['query', 'symbol']].rename(columns={'query': 'EnsemblGeneID', 'symbol': 'Symbol'})\n",
    "            print(\"Retrieved symbols from mygene:\", len(gene_info))\n",
    "            # Update missing Symbols\n",
    "            for _, row in gene_info.iterrows():\n",
    "                if pd.notna(row['Symbol']):\n",
    "                    merged_ensembl_df.loc[merged_ensembl_df['EnsemblGeneID'] == row['EnsemblGeneID'], 'Symbol'] = row['Symbol']\n",
    "        else:\n",
    "            print(\"No symbols retrieved from mygene.\")\n",
    "    except Exception as e:\n",
    "        print(f\"Mygene query failed: {e}\")\n",
    "\n",
    "# Debug: Final check for missing Symbols\n",
    "print(\"Missing Symbols after mygene:\", merged_ensembl_df['Symbol'].isna().sum())\n",
    "\n",
    "# Step 5: Drop EnsemblGeneID and reorder columns\n",
    "final_df = merged_ensembl_df.drop(columns=['EnsemblGeneID'])\n",
    "cols = ['Symbol'] + [col for col in final_df.columns if col != 'Symbol']\n",
    "final_df = final_df[cols]\n",
    "\n",
    "# Step 6: Save the updated CSV\n",
    "output_file = 'PSA/GSE205748_read_count_processed.csv'\n",
    "final_df.to_csv(output_file, sep=',', index=False)\n",
    "print(f\"CSV with Symbols saved as '{output_file}'\")\n",
    "print(final_df.head())\n",
    "\n",
    "# Step 7: Save unmatched IDs for inspection\n",
    "if len(unmatched_ids) > 0:\n",
    "    pd.DataFrame(unmatched_ids, columns=['EnsemblGeneID']).to_csv('PSA/unmatched_ensembl_ids.csv', index=False)\n",
    "    print(\"Unmatched EnsemblGeneID saved to 'PSA/unmatched_ensembl_ids.csv'\")"
   ]
  },
  {
   "cell_type": "code",
   "execution_count": 11,
   "id": "7c3b7f14-e679-4987-b318-b9763654bf8d",
   "metadata": {},
   "outputs": [
    {
     "name": "stderr",
     "output_type": "stream",
     "text": [
      "C:\\Users\\user\\AppData\\Local\\Temp\\ipykernel_13460\\1121881149.py:6: DtypeWarning: Columns (8,9) have mixed types. Specify dtype option on import or set low_memory=False.\n",
      "  annot_df = pd.read_csv(annot_file, sep='\\t')\n"
     ]
    },
    {
     "name": "stdout",
     "output_type": "stream",
     "text": [
      "Number of protein-coding genes in TSV: 19213\n",
      "Missing Symbols in TSV protein-coding: 0\n",
      "Number of unique EnsemblGeneID in idmap: 58302\n",
      "Missing Symbols in idmap: 14031\n",
      "Total genes in CSV: 58302\n",
      "Sample EnsemblGeneID: ['ENSG00000282222', 'ENSG00000282221', 'ENSG00000111671', 'ENSG00000110514', 'ENSG00000086015']\n",
      "Rows after TSV merge (protein-coding): 19152\n",
      "Missing Symbols after TSV merge: 0\n",
      "Number of unmatched EnsemblGeneID: 39150\n",
      "Sample unmatched EnsemblGeneID: ['ENSG00000282222', 'ENSG00000282221', 'ENSG00000211769', 'ENSG00000211768', 'ENSG00000211767']\n",
      "Protein-coding genes from idmap: 0\n",
      "CSV with Symbols saved as 'PSA/GSE205748_read_count_processed.csv'\n",
      "    Symbol   HC1   HC2   HC3   HC4   HC5   HC6   HC7   HC8   HC9  ...   PA9  \\\n",
      "0    SPSB2   157   228   245   274   253   232   327   319   262  ...   151   \n",
      "1     MADD  1308  1727  1989  1017  2042  1662  2042  2075  2106  ...  1697   \n",
      "2    MAST2   822  1229  1352   798  1161  1353  1801  1443  1052  ...   936   \n",
      "3  CSNK2A2  3221  5079  5188  5096  4190  5038  5984  6236  6713  ...  3676   \n",
      "4    ZNF32   269   463   480   504   390   635   417   359   363  ...   330   \n",
      "\n",
      "   PA10  PA11  PA12  PA13  PA14  PA15  PA16  PA17  PA18  \n",
      "0   167   250   205   159   344   205   203   222   138  \n",
      "1  1724  2058  1700  1550  1948  2188  2136  1885  1697  \n",
      "2   883   834   667   601   899   750   881   734   832  \n",
      "3  3626  3977  4600  6330  4230  4741  5594  5614  3291  \n",
      "4   219   213   180   212   305   344   232   203   280  \n",
      "\n",
      "[5 rows x 28 columns]\n",
      "Matched EnsemblGeneID saved to 'PSA/matched_ensembl_ids.csv'\n",
      "Unmatched EnsemblGeneID saved to 'PSA/unmatched_ensembl_ids.csv'\n"
     ]
    }
   ],
   "source": [
    "import pandas as pd\n",
    "import mygene\n",
    "\n",
    "# Step 1: Read and deduplicate the annotation TSV\n",
    "annot_file = 'LC/Human.GRCh38.p13.annot.tsv'\n",
    "annot_df = pd.read_csv(annot_file, sep='\\t')\n",
    "# Remove duplicates in EnsemblGeneID\n",
    "annot_df = annot_df.drop_duplicates(subset=['EnsemblGeneID'], keep='first')\n",
    "# Filter for protein-coding genes\n",
    "protein_coding_df = annot_df[annot_df['GeneType'] == 'protein-coding'][['EnsemblGeneID', 'Symbol']]\n",
    "# Strip version suffixes\n",
    "protein_coding_df['EnsemblGeneID'] = protein_coding_df['EnsemblGeneID'].str.split('.').str[0]\n",
    "print(\"Number of protein-coding genes in TSV:\", len(protein_coding_df))\n",
    "print(\"Missing Symbols in TSV protein-coding:\", protein_coding_df['Symbol'].isna().sum())\n",
    "\n",
    "# Step 2: Read and deduplicate the idmap XLSX\n",
    "idmap_file = 'PSA/idmap.xlsx'\n",
    "idmap_df = pd.read_excel(idmap_file)\n",
    "# Remove duplicates in query (EnsemblGeneID)\n",
    "idmap_df = idmap_df.drop_duplicates(subset=['query'], keep='first')\n",
    "# Rename query to EnsemblGeneID and select relevant columns\n",
    "idmap_df = idmap_df[['query', 'symbol']].rename(columns={'query': 'EnsemblGeneID', 'symbol': 'Symbol'})\n",
    "# Strip version suffixes\n",
    "idmap_df['EnsemblGeneID'] = idmap_df['EnsemblGeneID'].str.split('.').str[0]\n",
    "print(\"Number of unique EnsemblGeneID in idmap:\", len(idmap_df))\n",
    "print(\"Missing Symbols in idmap:\", idmap_df['Symbol'].isna().sum())\n",
    "\n",
    "# Step 3: Read the CSV\n",
    "csv_file = 'PSA/GSE205748_read_counts.csv'\n",
    "ensembl_df = pd.read_csv(csv_file, sep='\\t')\n",
    "ensembl_df.rename(columns={'ID': 'EnsemblGeneID'}, inplace=True)\n",
    "# Strip version suffixes\n",
    "ensembl_df['EnsemblGeneID'] = ensembl_df['EnsemblGeneID'].str.split('.').str[0]\n",
    "print(\"Total genes in CSV:\", len(ensembl_df))\n",
    "print(\"Sample EnsemblGeneID:\", ensembl_df['EnsemblGeneID'].head().tolist())\n",
    "\n",
    "# Step 4: Merge with TSV annotation (protein-coding only)\n",
    "merged_df = pd.merge(ensembl_df, protein_coding_df, on='EnsemblGeneID', how='inner')\n",
    "print(\"Rows after TSV merge (protein-coding):\", len(merged_df))\n",
    "print(\"Missing Symbols after TSV merge:\", merged_df['Symbol'].isna().sum())\n",
    "\n",
    "# Step 5: Check unmatched IDs against idmap.xlsx\n",
    "unmatched_ids = ensembl_df[~ensembl_df['EnsemblGeneID'].isin(protein_coding_df['EnsemblGeneID'])]['EnsemblGeneID'].unique()\n",
    "print(\"Number of unmatched EnsemblGeneID:\", len(unmatched_ids))\n",
    "print(\"Sample unmatched EnsemblGeneID:\", unmatched_ids[:5].tolist())\n",
    "\n",
    "# Merge unmatched IDs with idmap.xlsx\n",
    "unmatched_df = pd.DataFrame({'EnsemblGeneID': unmatched_ids})\n",
    "idmap_merged = pd.merge(unmatched_df, idmap_df, on='EnsemblGeneID', how='left')\n",
    "# Filter for protein-coding by cross-referencing with TSV GeneType\n",
    "idmap_protein_coding = idmap_merged[idmap_merged['EnsemblGeneID'].isin(protein_coding_df['EnsemblGeneID'])]\n",
    "print(\"Protein-coding genes from idmap:\", len(idmap_protein_coding))\n",
    "\n",
    "# Step 6: Combine TSV and idmap results\n",
    "# Append idmap protein-coding matches to main merge (if any)\n",
    "if not idmap_protein_coding.empty:\n",
    "    idmap_to_add = pd.merge(ensembl_df, idmap_protein_coding, on='EnsemblGeneID', how='inner')\n",
    "    idmap_to_add = idmap_to_add[ensembl_df.columns.tolist() + ['Symbol']]  # Align columns\n",
    "    merged_df = pd.concat([merged_df, idmap_to_add], ignore_index=True)\n",
    "    print(\"Rows after adding idmap protein-coding:\", len(merged_df))\n",
    "\n",
    "# Step 7: Drop EnsemblGeneID and reorder columns\n",
    "final_df = merged_df.drop(columns=['EnsemblGeneID'])\n",
    "cols = ['Symbol'] + [col for col in final_df.columns if col != 'Symbol']\n",
    "final_df = final_df[cols]\n",
    "\n",
    "# Step 8: Save the output\n",
    "output_file = 'PSA/GSE205748_read_count_processed.csv'\n",
    "final_df.to_csv(output_file, sep=',', index=False)\n",
    "print(f\"CSV with Symbols saved as '{output_file}'\")\n",
    "print(final_df.head())"
   ]
  },
  {
   "cell_type": "code",
   "execution_count": 13,
   "id": "54a0636b-450b-488f-b0bf-c96f4aac3af4",
   "metadata": {},
   "outputs": [
    {
     "name": "stdout",
     "output_type": "stream",
     "text": [
      "Duplicate Gene values: 0\n",
      "Total genes in CSV: 26485\n",
      "Sample Gene values: ['DDX11L1', 'WASH7P', 'MIR6859-3', 'MIR6859-2', 'MIR6859-1']\n",
      "Number of protein-coding genes in TSV: 19416\n",
      "Missing Symbols in TSV protein-coding: 0\n",
      "Rows after merge (protein-coding): 18060\n",
      "Missing Symbols after merge: 0\n",
      "Number of unmatched Gene values: 8425\n",
      "Sample unmatched Gene values: ['DDX11L1', 'WASH7P', 'MIR6859-3', 'MIR6859-2', 'MIR6859-1']\n",
      "Processed CSV saved as 'GSE179800_SKB-counts_processed.csv'\n",
      "   Symbol  PA1  PA2  PA3  PA4\n",
      "0   OR4F5    1    0    0    0\n",
      "1  OR4F29    0    0    0    0\n",
      "2   OR4F3    0    0    0    0\n",
      "3  OR4F16    0    0    0    0\n",
      "4  SAMD11    0    0    0    0\n",
      "Matched genes saved to 'matched_genes.csv'\n",
      "Unmatched genes saved to 'unmatched_genes.csv'\n"
     ]
    },
    {
     "name": "stderr",
     "output_type": "stream",
     "text": [
      "C:\\Users\\user\\AppData\\Local\\Temp\\ipykernel_13460\\2942116073.py:19: DtypeWarning: Columns (8,9) have mixed types. Specify dtype option on import or set low_memory=False.\n",
      "  annot_df = pd.read_csv(annot_file, sep='\\t')\n"
     ]
    }
   ],
   "source": [
    "import pandas as pd\n",
    "\n",
    "# Step 1: Read and clean the CSV\n",
    "csv_file = 'PSA/GSE179800_SKB-counts.csv'\n",
    "counts_df = pd.read_csv(csv_file)\n",
    "\n",
    "# Drop the first (index) column\n",
    "counts_df = counts_df.drop(counts_df.columns[0], axis=1)\n",
    "\n",
    "# Check for duplicates in Gene\n",
    "print(\"Duplicate Gene values:\", counts_df['Gene'].duplicated().sum())\n",
    "# Deduplicate, keeping first occurrence\n",
    "counts_df = counts_df.drop_duplicates(subset=['Gene'], keep='first')\n",
    "print(\"Total genes in CSV:\", len(counts_df))\n",
    "print(\"Sample Gene values:\", counts_df['Gene'].head().tolist())\n",
    "\n",
    "# Step 2: Read the annotation TSV and filter for protein-coding genes\n",
    "annot_file = 'LC/Human.GRCh38.p13.annot.tsv'\n",
    "annot_df = pd.read_csv(annot_file, sep='\\t')\n",
    "# Remove duplicates in Symbol\n",
    "annot_df = annot_df.drop_duplicates(subset=['Symbol'], keep='first')\n",
    "# Filter for protein-coding genes\n",
    "protein_coding_df = annot_df[annot_df['GeneType'] == 'protein-coding'][['Symbol']]\n",
    "print(\"Number of protein-coding genes in TSV:\", len(protein_coding_df))\n",
    "print(\"Missing Symbols in TSV protein-coding:\", protein_coding_df['Symbol'].isna().sum())\n",
    "\n",
    "# Step 3: Merge to keep only protein-coding genes\n",
    "merged_df = pd.merge(counts_df, protein_coding_df, left_on='Gene', right_on='Symbol', how='inner')\n",
    "print(\"Rows after merge (protein-coding):\", len(merged_df))\n",
    "print(\"Missing Symbols after merge:\", merged_df['Symbol'].isna().sum())\n",
    "\n",
    "# Step 4: Identify unmatched genes\n",
    "unmatched_genes = counts_df[~counts_df['Gene'].isin(protein_coding_df['Symbol'])]['Gene'].unique()\n",
    "print(\"Number of unmatched Gene values:\", len(unmatched_genes))\n",
    "print(\"Sample unmatched Gene values:\", unmatched_genes[:5].tolist())\n",
    "\n",
    "# Step 5: Prepare output (keep Gene column as Symbol)\n",
    "final_df = merged_df[['Gene', 'PA1', 'PA2', 'PA3', 'PA4']]\n",
    "# Rename Gene to Symbol for clarity\n",
    "final_df = final_df.rename(columns={'Gene': 'Symbol'})\n",
    "\n",
    "# Step 6: Save the output\n",
    "output_file = 'GSE179800_SKB-counts_processed.csv'\n",
    "final_df.to_csv(output_file, sep=',', index=False)\n",
    "print(f\"Processed CSV saved as '{output_file}'\")\n",
    "print(final_df.head())"
   ]
  },
  {
   "cell_type": "code",
   "execution_count": 2,
   "id": "efddc29e-dd7d-4815-8465-5361a5e97c6a",
   "metadata": {
    "scrolled": true
   },
   "outputs": [
    {
     "name": "stderr",
     "output_type": "stream",
     "text": [
      "C:\\Users\\user\\AppData\\Local\\Temp\\ipykernel_12088\\357418843.py:5: DtypeWarning: Columns (8,9) have mixed types. Specify dtype option on import or set low_memory=False.\n",
      "  annot_df = pd.read_csv(annot_file, sep='\\t')\n"
     ]
    },
    {
     "name": "stdout",
     "output_type": "stream",
     "text": [
      "Number of protein-coding genes in TSV: 19416\n",
      "Missing Symbols in TSV protein-coding: 0\n",
      "\n",
      "File: LC/GSE224615_raw_counts_GRCh38.p13_NCBI_processed.tsv\n",
      "Columns: ['Gene', 'HC1', 'HC2', 'HC3', 'HC4', 'HC5', 'LC1', 'HC6', 'HC7', 'LC2', 'HC8', 'LC3', 'LC4', 'LC5', 'LC6', 'LC7', 'HC9', 'LC8', 'LC9', 'LC10', 'HC10', 'HC11', 'LC11', 'LC12', 'LC13', 'LC14', 'LC15', 'LC16', 'LC17', 'LC18', 'LC19', 'HC12', 'HC13', 'LC20', 'LC21', 'LC22', 'LC23']\n",
      "Duplicate Gene values: 0\n",
      "Rows after protein-coding filter: 19416\n",
      "Sample Gene values: ['OR4F5', 'LOC112268260', 'OR4F29', 'LOC105378947', 'OR4F16']\n",
      "Unique Gene symbols: 19416\n",
      "\n",
      "File: LC/GSE251849_raw_counts_GRCh38.p13_NCBI_processed.tsv\n",
      "Columns: ['Gene', 'HC1', 'HC2', 'HC3', 'HC4', 'HC5', 'HC6', 'HC7', 'LC1', 'LC2', 'LC3', 'LC4', 'LC5', 'LC6', 'LC7', 'LC8', 'LC9', 'LC10', 'LC11']\n",
      "Duplicate Gene values: 0\n",
      "Rows after protein-coding filter: 19416\n",
      "Sample Gene values: ['OR4F5', 'LOC112268260', 'OR4F29', 'LOC105378947', 'OR4F16']\n",
      "Unique Gene symbols: 19416\n",
      "\n",
      "File: PSA/GSE205748_read_count_processed.csv\n",
      "Columns: ['Gene', 'HC1', 'HC2', 'HC3', 'HC4', 'HC5', 'HC6', 'HC7', 'HC8', 'HC9', 'PA1', 'PA2', 'PA3', 'PA4', 'PA5', 'PA6', 'PA7', 'PA8', 'PA9', 'PA10', 'PA11', 'PA12', 'PA13', 'PA14', 'PA15', 'PA16', 'PA17', 'PA18']\n",
      "Duplicate Gene values: 0\n",
      "Rows after protein-coding filter: 19152\n",
      "Sample Gene values: ['SPSB2', 'MADD', 'MAST2', 'CSNK2A2', 'ZNF32']\n",
      "Unique Gene symbols: 19152\n",
      "\n",
      "File: PSA/GSE179800_SKB-counts.csv\n",
      "Columns: ['Gene', 'PA1', 'PA2', 'PA3', 'PA4', 'PA5', 'HC06', 'HC07', 'HC1', 'HC15', 'HC23']\n",
      "Duplicate Gene values: 2\n",
      "Rows after protein-coding filter: 18060\n",
      "Sample Gene values: ['OR4F5', 'OR4F29', 'OR4F3', 'OR4F16', 'SAMD11']\n",
      "Unique Gene symbols: 18060\n",
      "\n",
      "Number of common protein-coding Gene symbols: 17998\n",
      "Sample common Gene symbols: ['CBFB', 'RHD', 'MED15', 'NLRP5', 'UBE3A']\n",
      "\n",
      "File: LC/GSE224615_raw_counts_GRCh38.p13_NCBI_processed.tsv\n",
      "Rows after common genes filter: 17998\n",
      "Processed file saved as 'LC/GSE224615_raw_counts_GRCh38.p13_NCBI_processed_common.tsv'\n",
      "     Gene  HC1   HC2   HC3   HC4   HC5   LC1   HC6   HC7   LC2  ...  LC16  \\\n",
      "0   OR4F5    0     0     0     0     0     0     0     0     0  ...     0   \n",
      "2  OR4F29    0     0     0     0     0     0     0     0     0  ...     0   \n",
      "4  OR4F16    0    13     3     9     3     5    29     8     5  ...    10   \n",
      "5  SAMD11    7   280   181   237   140   175   260   175   273  ...   336   \n",
      "6   NOC2L  302  3240  1744  2768  2601  1754  2945  2429  2318  ...  2329   \n",
      "\n",
      "   LC17  LC18  LC19  HC12  HC13  LC20  LC21  LC22  LC23  \n",
      "0     0     0     0     0     0     0     0     0     0  \n",
      "2     0     0     0     1     0     0     0     0     0  \n",
      "4    13     1     3    12    18    16    15     9     6  \n",
      "5   228   131   159   302   192   184   212   161   192  \n",
      "6  2825  2138  1786  2556  2381  2616  2674  2718  2701  \n",
      "\n",
      "[5 rows x 37 columns]\n",
      "\n",
      "File: LC/GSE251849_raw_counts_GRCh38.p13_NCBI_processed.tsv\n",
      "Rows after common genes filter: 17998\n",
      "Processed file saved as 'LC/GSE251849_raw_counts_GRCh38.p13_NCBI_processed_common.tsv'\n",
      "     Gene   HC1   HC2   HC3   HC4   HC5   HC6   HC7   LC1   LC2   LC3   LC4  \\\n",
      "0   OR4F5     0     0     0     0     0     0     0     0     0     0     0   \n",
      "2  OR4F29     0     0     0     0     0     0     0     0     0     0     0   \n",
      "4  OR4F16     1     0     1     0     0     0     1     1     1     1     1   \n",
      "5  SAMD11    82    85    97    78    73    72    67    95    77    67    91   \n",
      "6   NOC2L  2728  2540  2568  2127  2237  2173  1969  2430  1938  2347  2608   \n",
      "\n",
      "    LC5   LC6   LC7   LC8   LC9  LC10  LC11  \n",
      "0     0     0     0     0     0     0     0  \n",
      "2     0     0     0     0     0     0     0  \n",
      "4     1     0     0     1     1     1     1  \n",
      "5   108    73    64    91    64    93    58  \n",
      "6  2657  2449  1984  2700  1698  2634  1827  \n",
      "\n",
      "File: PSA/GSE205748_read_count_processed.csv\n",
      "Rows after common genes filter: 17998\n",
      "Processed file saved as 'PSA/GSE205748_read_count_processed_common.csv'\n",
      "      Gene   HC1   HC2   HC3   HC4   HC5   HC6   HC7   HC8   HC9  ...   PA9  \\\n",
      "0    SPSB2   157   228   245   274   253   232   327   319   262  ...   151   \n",
      "1     MADD  1308  1727  1989  1017  2042  1662  2042  2075  2106  ...  1697   \n",
      "2    MAST2   822  1229  1352   798  1161  1353  1801  1443  1052  ...   936   \n",
      "3  CSNK2A2  3221  5079  5188  5096  4190  5038  5984  6236  6713  ...  3676   \n",
      "4    ZNF32   269   463   480   504   390   635   417   359   363  ...   330   \n",
      "\n",
      "   PA10  PA11  PA12  PA13  PA14  PA15  PA16  PA17  PA18  \n",
      "0   167   250   205   159   344   205   203   222   138  \n",
      "1  1724  2058  1700  1550  1948  2188  2136  1885  1697  \n",
      "2   883   834   667   601   899   750   881   734   832  \n",
      "3  3626  3977  4600  6330  4230  4741  5594  5614  3291  \n",
      "4   219   213   180   212   305   344   232   203   280  \n",
      "\n",
      "[5 rows x 28 columns]\n",
      "\n",
      "File: PSA/GSE179800_SKB-counts.csv\n",
      "Rows after common genes filter: 17998\n",
      "Processed file saved as 'PSA/GSE179800_SKB-counts_common.csv'\n",
      "     Gene  PA1  PA2  PA3  PA4  PA5  HC06  HC07  HC1  HC15  HC23\n",
      "0   OR4F5    1    0    0    0    0     0     1    0     0     0\n",
      "1  OR4F29    0    0    0    0    0     0     0    0     0     0\n",
      "2   OR4F3    0    0    0    0    0     0     0    0     0     0\n",
      "3  OR4F16    0    0    0    0    0     0     0    0     0     0\n",
      "4  SAMD11    0    0    0    0    0     0     0    0     0     0\n",
      "Common Gene symbols saved to 'common_gene_symbols.csv'\n",
      "Unmatched genes for LC/GSE224615_raw_counts_GRCh38.p13_NCBI_processed.tsv saved to 'LC/GSE224615_raw_counts_GRCh38.p13_NCBI_processed_unmatched.tsv'\n",
      "Unmatched genes for LC/GSE251849_raw_counts_GRCh38.p13_NCBI_processed.tsv saved to 'LC/GSE251849_raw_counts_GRCh38.p13_NCBI_processed_unmatched.tsv'\n",
      "Unmatched genes for PSA/GSE205748_read_count_processed.csv saved to 'PSA/GSE205748_read_count_processed_unmatched.csv'\n",
      "Unmatched genes for PSA/GSE179800_SKB-counts.csv saved to 'PSA/GSE179800_SKB-counts_unmatched.csv'\n"
     ]
    }
   ],
   "source": [
    "import pandas as pd\n",
    "\n",
    "# Step 1: Read the annotation TSV and filter for protein-coding genes\n",
    "annot_file = 'LC/Human.GRCh38.p13.annot.tsv'\n",
    "annot_df = pd.read_csv(annot_file, sep='\\t')\n",
    "# Remove duplicates in Symbol\n",
    "annot_df = annot_df.drop_duplicates(subset=['Symbol'], keep='first')\n",
    "protein_coding_df = annot_df[annot_df['GeneType'] == 'protein-coding'][['Symbol']]\n",
    "print(\"Number of protein-coding genes in TSV:\", len(protein_coding_df))\n",
    "print(\"Missing Symbols in TSV protein-coding:\", protein_coding_df['Symbol'].isna().sum())\n",
    "\n",
    "# Step 2: Load and clean each file\n",
    "files = {\n",
    "    'LC/GSE224615_raw_counts_GRCh38.p13_NCBI_processed.tsv': {'type': 'tsv', 'sep': '\\t'},\n",
    "    'LC/GSE251849_raw_counts_GRCh38.p13_NCBI_processed.tsv': {'type': 'tsv', 'sep': '\\t'},\n",
    "    'PSA/GSE205748_read_count_processed.csv': {'type': 'csv', 'sep': ','},\n",
    "    'PSA/GSE179800_SKB-counts.csv': {'type': 'csv', 'sep': ','}\n",
    "}\n",
    "\n",
    "dfs = {}\n",
    "gene_sets = {}\n",
    "for file_path, config in files.items():\n",
    "    # Read file\n",
    "    df = pd.read_csv(file_path, sep=config['sep'])\n",
    "    \n",
    "    # Debug: Print columns\n",
    "    print(f\"\\nFile: {file_path}\")\n",
    "    print(\"Columns:\", df.columns.tolist())\n",
    "    \n",
    "    # Rename first column to Gene if needed\n",
    "    if df.columns[0].lower() in ['symbol', 'id', 'geneid']:\n",
    "        df = df.rename(columns={df.columns[0]: 'Gene'})\n",
    "    elif df.columns[0] != 'Gene':\n",
    "        print(f\"Warning: First column in {file_path} is '{df.columns[0]}', assuming it's Gene\")\n",
    "        df = df.rename(columns={df.columns[0]: 'Gene'})\n",
    "    \n",
    "    # Check for duplicates\n",
    "    print(\"Duplicate Gene values:\", df['Gene'].duplicated().sum())\n",
    "    df = df.drop_duplicates(subset=['Gene'], keep='first')\n",
    "    \n",
    "    # Filter for protein-coding genes\n",
    "    df = pd.merge(df, protein_coding_df, left_on='Gene', right_on='Symbol', how='inner')\n",
    "    df = df.drop(columns=['Symbol'])  # Drop extra Symbol column\n",
    "    print(\"Rows after protein-coding filter:\", len(df))\n",
    "    print(\"Sample Gene values:\", df['Gene'].head().tolist())\n",
    "    \n",
    "    # Store DataFrame and gene set\n",
    "    dfs[file_path] = df\n",
    "    gene_sets[file_path] = set(df['Gene'])\n",
    "    print(\"Unique Gene symbols:\", len(gene_sets[file_path]))\n",
    "\n",
    "# Step 3: Find overlapping Gene symbols\n",
    "common_genes = set.intersection(*gene_sets.values())\n",
    "print(\"\\nNumber of common protein-coding Gene symbols:\", len(common_genes))\n",
    "print(\"Sample common Gene symbols:\", list(common_genes)[:5])\n",
    "\n",
    "# Step 4: Subset each file to common Gene symbols\n",
    "for file_path, df in dfs.items():\n",
    "    # Filter to common genes\n",
    "    df_common = df[df['Gene'].isin(common_genes)]\n",
    "    print(f\"\\nFile: {file_path}\")\n",
    "    print(\"Rows after common genes filter:\", len(df_common))\n",
    "    \n",
    "    # Save processed file\n",
    "    output_file = file_path.replace('.tsv', '_common.tsv').replace('.csv', '_common.csv')\n",
    "    df_common.to_csv(output_file, sep=files[file_path]['sep'], index=False)\n",
    "    print(f\"Processed file saved as '{output_file}'\")\n",
    "    print(df_common.head())\n",
    "\n",
    "# Step 5: Save common and unmatched genes\n",
    "pd.DataFrame(list(common_genes), columns=['Gene']).to_csv('common_gene_symbols.csv', index=False)\n",
    "print(\"Common Gene symbols saved to 'common_gene_symbols.csv'\")\n",
    "\n",
    "# Save unmatched genes per file\n",
    "for file_path, gene_set in gene_sets.items():\n",
    "    unmatched = gene_set - common_genes\n",
    "    pd.DataFrame(list(unmatched), columns=['Gene']).to_csv(\n",
    "        file_path.replace('.tsv', '_unmatched.tsv').replace('.csv', '_unmatched.csv'),\n",
    "        index=False\n",
    "    )\n",
    "    print(f\"Unmatched genes for {file_path} saved to '{file_path.replace('.tsv', '_unmatched.tsv').replace('.csv', '_unmatched.csv')}'\")"
   ]
  },
  {
   "cell_type": "markdown",
   "id": "e0b30e82-ce3f-4fdf-96e0-eb9dc6fdd2dd",
   "metadata": {},
   "source": [
    "### Covid"
   ]
  },
  {
   "cell_type": "code",
   "execution_count": 3,
   "id": "678a79a8-6955-4f37-a5c6-abe64e77c1bb",
   "metadata": {},
   "outputs": [
    {
     "name": "stderr",
     "output_type": "stream",
     "text": [
      "C:\\Users\\user\\AppData\\Local\\Temp\\ipykernel_20184\\1333381521.py:6: DtypeWarning: Columns (8,9) have mixed types. Specify dtype option on import or set low_memory=False.\n",
      "  annot_df = pd.read_csv(annot_file, sep='\\t')\n"
     ]
    },
    {
     "name": "stdout",
     "output_type": "stream",
     "text": [
      "Annotation file columns: ['GeneID', 'Symbol', 'Description', 'Synonyms', 'GeneType', 'EnsemblGeneID', 'Status', 'ChrAcc', 'ChrStart', 'ChrStop', 'Orientation', 'Length', 'GOFunctionID', 'GOProcessID', 'GOComponentID', 'GOFunction', 'GOProcess', 'GOComponent']\n",
      "Unique GeneType values: ['pseudo' 'ncRNA' 'protein-coding' nan 'snoRNA' 'snRNA' 'tRNA' 'other'\n",
      " 'unknown' 'rRNA' 'scRNA']\n",
      "Number of protein-coding genes: 19416\n",
      "Missing Symbols in protein-coding annotation: 0\n"
     ]
    },
    {
     "name": "stderr",
     "output_type": "stream",
     "text": [
      "Input sequence provided is already in string format. No operation performed\n",
      "Input sequence provided is already in string format. No operation performed\n"
     ]
    },
    {
     "name": "stdout",
     "output_type": "stream",
     "text": [
      "CSV columns: ['EnsemblGeneID', 'C1', 'C2', 'C3', 'C4', 'C5', 'C6', 'C7', 'C8', 'C9', 'C10', 'C11', 'C12', 'C13', 'C14', 'C15', 'C16', 'C17', 'C18', 'C19', 'C20', 'C21', 'C22', 'C23', 'C24', 'C25', 'HC1', 'HC2', 'HC3', 'HC4', 'HC5', 'HC6', 'HC7', 'HC8', 'HC9', 'HC10', 'C26', 'C27', 'C28', 'C29', 'C30', 'C31', 'C32', 'C33', 'C34', 'C35', 'C36', 'C37', 'C38', 'C39', 'C40', 'C41', 'C42', 'C43', 'C44', 'C45', 'C46', 'C47', 'C48', 'C49', 'C50', 'C51', 'C52', 'C53', 'C54', 'C55', 'C56', 'C57', 'C58', 'C59', 'C60', 'C61', 'C62', 'C63', 'C64', 'C65', 'C66', 'C67', 'C68', 'C69', 'C70']\n",
      "Sample EnsemblGeneID: ['ENSG00000223972', 'ENSG00000227232', 'ENSG00000278267', 'ENSG00000243485', 'ENSG00000284332']\n",
      "Total genes in CSV: 60603\n",
      "Rows after merge: 60614\n",
      "Missing Symbols after merge: 41387\n",
      "Number of unmatched EnsemblGeneID: 41360\n",
      "Sample unmatched EnsemblGeneID: ['ENSG00000223972', 'ENSG00000227232', 'ENSG00000278267', 'ENSG00000243485', 'ENSG00000284332']\n",
      "Querying 41360 missing Ensembl IDs with mygene...\n"
     ]
    },
    {
     "name": "stderr",
     "output_type": "stream",
     "text": [
      "29 input query terms found dup hits:\t[('ENSG00000228044', 2), ('ENSG00000226506', 2), ('ENSG00000261600', 2), ('ENSG00000234162', 2), ('E\n",
      "1325 input query terms found no hit:\t['ENSG00000238009', 'ENSG00000230699', 'ENSG00000241180', 'ENSG00000236948', 'ENSG00000277726', 'ENS\n"
     ]
    },
    {
     "name": "stdout",
     "output_type": "stream",
     "text": [
      "Retrieved symbols from mygene: 41394\n",
      "Missing Symbols after mygene: 15784\n",
      "CSV with Symbols saved as 'C19/GSE202805_genecounts_processed.txt'\n",
      "        Symbol  C1  C2  C3  C4   C5   C6   C7  C8  C9  ...  C61  C62  C63  \\\n",
      "0      DDX11L1  46  69  20  42  182   13   10  47   5  ...   73    7   57   \n",
      "1       WASH7P  62  77  93  68   98  101  141  84  99  ...  106  146  121   \n",
      "2    MIR6859-1   1   5   0   0   11    2    5   1   3  ...    9    2    1   \n",
      "3  MIR1302-2HG   0   0   0   0    0    0    0   6   0  ...    0    0    0   \n",
      "4    MIR1302-2   0   0   0   0    0    0    0   0   0  ...    0    0    0   \n",
      "\n",
      "   C64  C65  C66  C67  C68  C69  C70  \n",
      "0  110  131   26   53   31   30   21  \n",
      "1  114  182  189  249   76  136  123  \n",
      "2   11    3   17    7    4    3    0  \n",
      "3    0    0    0    0    0    0    0  \n",
      "4    0    0    0    0    0    0    0  \n",
      "\n",
      "[5 rows x 81 columns]\n",
      "Unmatched EnsemblGeneID saved to 'C19/unmatched_ensembl_ids.csv'\n"
     ]
    }
   ],
   "source": [
    "import pandas as pd\n",
    "import mygene\n",
    "\n",
    "# Step 1: Read the annotation file and filter for protein-coding genes\n",
    "annot_file = 'LC/Human.GRCh38.p13.annot.tsv'\n",
    "annot_df = pd.read_csv(annot_file, sep='\\t')\n",
    "\n",
    "# Debug: Check annotation file columns and unique GeneType values\n",
    "print(\"Annotation file columns:\", annot_df.columns.tolist())\n",
    "print(\"Unique GeneType values:\", annot_df['GeneType'].unique())\n",
    "print(\"Number of protein-coding genes:\", len(annot_df[annot_df['GeneType'] == 'protein-coding']))\n",
    "\n",
    "# Filter for protein-coding genes\n",
    "protein_coding_df = annot_df[annot_df['GeneType'] == 'protein-coding'][['EnsemblGeneID', 'Symbol']]\n",
    "# Debug: Check for missing Symbols in annotation\n",
    "print(\"Missing Symbols in protein-coding annotation:\", protein_coding_df['Symbol'].isna().sum())\n",
    "\n",
    "# Step 2: Read the CSV file\n",
    "csv_file = 'C19/GSE202805_genecounts_20220406.txt'\n",
    "ensembl_df = pd.read_csv(csv_file, sep='\\t')\n",
    "ensembl_df.rename(columns={'Geneid': 'EnsemblGeneID'}, inplace=True)\n",
    "\n",
    "# Debug: Check CSV columns and sample EnsemblGeneID\n",
    "print(\"CSV columns:\", ensembl_df.columns.tolist())\n",
    "print(\"Sample EnsemblGeneID:\", ensembl_df['EnsemblGeneID'].head().tolist())\n",
    "print(\"Total genes in CSV:\", len(ensembl_df))\n",
    "\n",
    "# Step 3: Merge to map EnsemblGeneID to Symbol (use left join to keep all CSV rows)\n",
    "merged_ensembl_df = pd.merge(ensembl_df, protein_coding_df, on='EnsemblGeneID', how='left')\n",
    "\n",
    "# Debug: Check merge results\n",
    "print(\"Rows after merge:\", len(merged_ensembl_df))\n",
    "print(\"Missing Symbols after merge:\", merged_ensembl_df['Symbol'].isna().sum())\n",
    "unmatched_ids = merged_ensembl_df[merged_ensembl_df['Symbol'].isna()]['EnsemblGeneID'].unique()\n",
    "print(\"Number of unmatched EnsemblGeneID:\", len(unmatched_ids))\n",
    "print(\"Sample unmatched EnsemblGeneID:\", unmatched_ids[:5].tolist())\n",
    "\n",
    "# Step 4: Handle missing Symbols with mygene\n",
    "if len(unmatched_ids) > 0:\n",
    "    print(f\"Querying {len(unmatched_ids)} missing Ensembl IDs with mygene...\")\n",
    "    mg = mygene.MyGeneInfo()\n",
    "    try:\n",
    "        gene_info = mg.querymany(unmatched_ids, scopes='ensembl.gene', fields='symbol', species='human', as_dataframe=True)\n",
    "        if not gene_info.empty:\n",
    "            gene_info = gene_info.reset_index()[['query', 'symbol']].rename(columns={'query': 'EnsemblGeneID', 'symbol': 'Symbol'})\n",
    "            print(\"Retrieved symbols from mygene:\", len(gene_info))\n",
    "            # Update missing Symbols\n",
    "            for _, row in gene_info.iterrows():\n",
    "                if pd.notna(row['Symbol']):\n",
    "                    merged_ensembl_df.loc[merged_ensembl_df['EnsemblGeneID'] == row['EnsemblGeneID'], 'Symbol'] = row['Symbol']\n",
    "        else:\n",
    "            print(\"No symbols retrieved from mygene.\")\n",
    "    except Exception as e:\n",
    "        print(f\"Mygene query failed: {e}\")\n",
    "\n",
    "# Debug: Final check for missing Symbols\n",
    "print(\"Missing Symbols after mygene:\", merged_ensembl_df['Symbol'].isna().sum())\n",
    "\n",
    "# Step 5: Drop EnsemblGeneID and reorder columns\n",
    "final_df = merged_ensembl_df.drop(columns=['EnsemblGeneID'])\n",
    "cols = ['Symbol'] + [col for col in final_df.columns if col != 'Symbol']\n",
    "final_df = final_df[cols]\n",
    "\n",
    "# Step 6: Save the updated CSV\n",
    "output_file = 'C19/GSE202805_genecounts_processed.txt'\n",
    "final_df.to_csv(output_file, sep=',', index=False)\n",
    "print(f\"CSV with Symbols saved as '{output_file}'\")\n",
    "print(final_df.head())\n",
    "\n",
    "# Step 7: Save unmatched IDs for inspection\n",
    "if len(unmatched_ids) > 0:\n",
    "    pd.DataFrame(unmatched_ids, columns=['EnsemblGeneID']).to_csv('C19/unmatched_ensembl_ids.csv', index=False)\n",
    "    print(\"Unmatched EnsemblGeneID saved to 'C19/unmatched_ensembl_ids.csv'\")"
   ]
  },
  {
   "cell_type": "markdown",
   "id": "9cc0d9f0-1b8f-413f-9af2-bc00665e42bb",
   "metadata": {},
   "source": [
    "## DEG"
   ]
  },
  {
   "cell_type": "markdown",
   "id": "61098bed-0cc1-4a3f-a33a-3cb6268a75e2",
   "metadata": {},
   "source": [
    "### LC"
   ]
  },
  {
   "cell_type": "code",
   "execution_count": 1,
   "id": "d86b28ec-0a51-42c4-8e3a-c97bbde25b8b",
   "metadata": {
    "scrolled": true
   },
   "outputs": [
    {
     "name": "stderr",
     "output_type": "stream",
     "text": [
      "Warning message:\n",
      "\"package 'DESeq2' was built under R version 4.2.2\"\n",
      "Loading required package: S4Vectors\n",
      "\n",
      "Warning message:\n",
      "\"package 'S4Vectors' was built under R version 4.2.2\"\n",
      "Loading required package: stats4\n",
      "\n",
      "Loading required package: BiocGenerics\n",
      "\n",
      "Warning message:\n",
      "\"package 'BiocGenerics' was built under R version 4.2.1\"\n",
      "\n",
      "Attaching package: 'BiocGenerics'\n",
      "\n",
      "\n",
      "The following objects are masked from 'package:stats':\n",
      "\n",
      "    IQR, mad, sd, var, xtabs\n",
      "\n",
      "\n",
      "The following objects are masked from 'package:base':\n",
      "\n",
      "    anyDuplicated, aperm, append, as.data.frame, basename, cbind,\n",
      "    colnames, dirname, do.call, duplicated, eval, evalq, Filter, Find,\n",
      "    get, grep, grepl, intersect, is.unsorted, lapply, Map, mapply,\n",
      "    match, mget, order, paste, pmax, pmax.int, pmin, pmin.int,\n",
      "    Position, rank, rbind, Reduce, rownames, sapply, setdiff, sort,\n",
      "    table, tapply, union, unique, unsplit, which.max, which.min\n",
      "\n",
      "\n",
      "\n",
      "Attaching package: 'S4Vectors'\n",
      "\n",
      "\n",
      "The following objects are masked from 'package:base':\n",
      "\n",
      "    expand.grid, I, unname\n",
      "\n",
      "\n",
      "Loading required package: IRanges\n",
      "\n",
      "Warning message:\n",
      "\"package 'IRanges' was built under R version 4.2.1\"\n",
      "\n",
      "Attaching package: 'IRanges'\n",
      "\n",
      "\n",
      "The following object is masked from 'package:grDevices':\n",
      "\n",
      "    windows\n",
      "\n",
      "\n",
      "Loading required package: GenomicRanges\n",
      "\n",
      "Warning message:\n",
      "\"package 'GenomicRanges' was built under R version 4.2.2\"\n",
      "Loading required package: GenomeInfoDb\n",
      "\n",
      "Warning message:\n",
      "\"package 'GenomeInfoDb' was built under R version 4.2.2\"\n",
      "Loading required package: SummarizedExperiment\n",
      "\n",
      "Warning message:\n",
      "\"package 'SummarizedExperiment' was built under R version 4.2.1\"\n",
      "Loading required package: MatrixGenerics\n",
      "\n",
      "Warning message:\n",
      "\"package 'MatrixGenerics' was built under R version 4.2.1\"\n",
      "Loading required package: matrixStats\n",
      "\n",
      "Warning message:\n",
      "\"package 'matrixStats' was built under R version 4.2.3\"\n",
      "\n",
      "Attaching package: 'MatrixGenerics'\n",
      "\n",
      "\n",
      "The following objects are masked from 'package:matrixStats':\n",
      "\n",
      "    colAlls, colAnyNAs, colAnys, colAvgsPerRowSet, colCollapse,\n",
      "    colCounts, colCummaxs, colCummins, colCumprods, colCumsums,\n",
      "    colDiffs, colIQRDiffs, colIQRs, colLogSumExps, colMadDiffs,\n",
      "    colMads, colMaxs, colMeans2, colMedians, colMins, colOrderStats,\n",
      "    colProds, colQuantiles, colRanges, colRanks, colSdDiffs, colSds,\n",
      "    colSums2, colTabulates, colVarDiffs, colVars, colWeightedMads,\n",
      "    colWeightedMeans, colWeightedMedians, colWeightedSds,\n",
      "    colWeightedVars, rowAlls, rowAnyNAs, rowAnys, rowAvgsPerColSet,\n",
      "    rowCollapse, rowCounts, rowCummaxs, rowCummins, rowCumprods,\n",
      "    rowCumsums, rowDiffs, rowIQRDiffs, rowIQRs, rowLogSumExps,\n",
      "    rowMadDiffs, rowMads, rowMaxs, rowMeans2, rowMedians, rowMins,\n",
      "    rowOrderStats, rowProds, rowQuantiles, rowRanges, rowRanks,\n",
      "    rowSdDiffs, rowSds, rowSums2, rowTabulates, rowVarDiffs, rowVars,\n",
      "    rowWeightedMads, rowWeightedMeans, rowWeightedMedians,\n",
      "    rowWeightedSds, rowWeightedVars\n",
      "\n",
      "\n",
      "Loading required package: Biobase\n",
      "\n",
      "Warning message:\n",
      "\"package 'Biobase' was built under R version 4.2.1\"\n",
      "Welcome to Bioconductor\n",
      "\n",
      "    Vignettes contain introductory material; view with\n",
      "    'browseVignettes()'. To cite Bioconductor, see\n",
      "    'citation(\"Biobase\")', and for packages 'citation(\"pkgname\")'.\n",
      "\n",
      "\n",
      "\n",
      "Attaching package: 'Biobase'\n",
      "\n",
      "\n",
      "The following object is masked from 'package:MatrixGenerics':\n",
      "\n",
      "    rowMedians\n",
      "\n",
      "\n",
      "The following objects are masked from 'package:matrixStats':\n",
      "\n",
      "    anyMissing, rowMedians\n",
      "\n",
      "\n",
      "Warning message:\n",
      "\"package 'dplyr' was built under R version 4.2.3\"\n",
      "\n",
      "Attaching package: 'dplyr'\n",
      "\n",
      "\n",
      "The following object is masked from 'package:Biobase':\n",
      "\n",
      "    combine\n",
      "\n",
      "\n",
      "The following object is masked from 'package:matrixStats':\n",
      "\n",
      "    count\n",
      "\n",
      "\n",
      "The following objects are masked from 'package:GenomicRanges':\n",
      "\n",
      "    intersect, setdiff, union\n",
      "\n",
      "\n",
      "The following object is masked from 'package:GenomeInfoDb':\n",
      "\n",
      "    intersect\n",
      "\n",
      "\n",
      "The following objects are masked from 'package:IRanges':\n",
      "\n",
      "    collapse, desc, intersect, setdiff, slice, union\n",
      "\n",
      "\n",
      "The following objects are masked from 'package:S4Vectors':\n",
      "\n",
      "    first, intersect, rename, setdiff, setequal, union\n",
      "\n",
      "\n",
      "The following objects are masked from 'package:BiocGenerics':\n",
      "\n",
      "    combine, intersect, setdiff, union\n",
      "\n",
      "\n",
      "The following objects are masked from 'package:stats':\n",
      "\n",
      "    filter, lag\n",
      "\n",
      "\n",
      "The following objects are masked from 'package:base':\n",
      "\n",
      "    intersect, setdiff, setequal, union\n",
      "\n",
      "\n",
      "Warning message:\n",
      "\"package 'EnhancedVolcano' was built under R version 4.2.1\"\n",
      "Loading required package: ggrepel\n",
      "\n",
      "Warning message:\n",
      "\"package 'ggrepel' was built under R version 4.2.3\"\n",
      "Warning message:\n",
      "\"package 'pheatmap' was built under R version 4.2.3\"\n"
     ]
    }
   ],
   "source": [
    "# Load libraries\n",
    "library(DESeq2)\n",
    "library(dplyr)\n",
    "library(ggplot2)\n",
    "library(EnhancedVolcano)\n",
    "library(pheatmap)\n",
    "library(ggrepel)"
   ]
  },
  {
   "cell_type": "code",
   "execution_count": 2,
   "id": "3d72cf70-d97f-40a0-bac0-13a5d293d6c1",
   "metadata": {},
   "outputs": [
    {
     "name": "stdout",
     "output_type": "stream",
     "text": [
      "GSE224615 dimensions: 17998 36 \n",
      "GSE251849 dimensions: 17998 18 \n"
     ]
    }
   ],
   "source": [
    "# Step 1: Read datasets\n",
    "gse224615 <- read.csv(\"LC/GSE224615_raw_counts_GRCh38.p13_NCBI_processed_common.tsv\", sep=\"\\t\", row.names=1, check.names=FALSE)\n",
    "gse251849 <- read.csv(\"LC/GSE251849_raw_counts_GRCh38.p13_NCBI_processed_common.tsv\", sep=\"\\t\", row.names=1, check.names=FALSE)\n",
    "cat(\"GSE224615 dimensions:\", dim(gse224615), \"\\n\")\n",
    "cat(\"GSE251849 dimensions:\", dim(gse251849), \"\\n\")"
   ]
  },
  {
   "cell_type": "code",
   "execution_count": 3,
   "id": "c27a8fe2-7411-43b1-a6ff-cfc5e6785c59",
   "metadata": {},
   "outputs": [],
   "source": [
    "# Verify gene alignment\n",
    "if (!identical(rownames(gse224615), rownames(gse251849))) {\n",
    "  common_genes <- intersect(rownames(gse224615), rownames(gse251849))\n",
    " gse224615 <- gse224615[common_genes, ]\n",
    "  gse251849 <- gse251849[common_genes, ]\n",
    "  cat(\"Aligned to common genes:\", length(common_genes), \"\\n\")\n",
    "}"
   ]
  },
  {
   "cell_type": "code",
   "execution_count": 4,
   "id": "cca96e71-8d74-4b10-a0bc-fc008c26eec3",
   "metadata": {},
   "outputs": [
    {
     "name": "stdout",
     "output_type": "stream",
     "text": [
      "Merged count data dimensions: 17998 54 \n"
     ]
    }
   ],
   "source": [
    "# Step 2: Merge datasets\n",
    "count_data <- cbind(gse251849 ,gse224615)  \n",
    "cat(\"Merged count data dimensions:\", dim(count_data), \"\\n\")"
   ]
  },
  {
   "cell_type": "code",
   "execution_count": 5,
   "id": "d6060976-6837-43b5-be12-ad35fb13965e",
   "metadata": {},
   "outputs": [
    {
     "name": "stdout",
     "output_type": "stream",
     "text": [
      "Sample counts:\n",
      "\n",
      "  Healthy LongCOVID \n",
      "       20        34 \n"
     ]
    }
   ],
   "source": [
    "# Step 3: Prepare metadata\n",
    "samples <- colnames(count_data)\n",
    "condition <- ifelse(grepl(\"^HC\", samples, ignore.case=TRUE), \"Healthy\",\n",
    "                   ifelse(grepl(\"^LC\", samples, ignore.case=TRUE), \"LongCOVID\", NA))\n",
    "if (any(is.na(condition))) {\n",
    "  stop(\"Some samples lack HC or LC prefix: \", paste(samples[is.na(condition)], collapse=\", \"))\n",
    "}\n",
    "col_data <- data.frame(\n",
    "  sample = samples,\n",
    "  condition = factor(condition, levels=c(\"Healthy\", \"LongCOVID\")),\n",
    "  row.names = samples\n",
    ")\n",
    "cat(\"Sample counts:\\n\")\n",
    "print(table(col_data$condition))"
   ]
  },
  {
   "cell_type": "code",
   "execution_count": 6,
   "id": "6073284e-f145-4a45-89f6-26d1444a9f78",
   "metadata": {},
   "outputs": [
    {
     "name": "stdout",
     "output_type": "stream",
     "text": [
      "Count data verified as integers\n"
     ]
    }
   ],
   "source": [
    "# Step 4: Verify raw counts\n",
    "if (any(count_data < 0 | count_data %% 1 != 0)) {\n",
    "  stop(\"Count data contains non-integer or negative values\")\n",
    "}\n",
    "cat(\"Count data verified as integers\\n\")"
   ]
  },
  {
   "cell_type": "code",
   "execution_count": 7,
   "id": "44b1632b-e9b9-4a06-b26e-d5c0cf4236c2",
   "metadata": {},
   "outputs": [
    {
     "name": "stderr",
     "output_type": "stream",
     "text": [
      "converting counts to integer mode\n",
      "\n"
     ]
    }
   ],
   "source": [
    "# Step 5: Create DESeq2 dataset\n",
    "dds <- DESeqDataSetFromMatrix(\n",
    "  countData = round(count_data),\n",
    "  colData = col_data,\n",
    "  design = ~ condition\n",
    ")"
   ]
  },
  {
   "cell_type": "code",
   "execution_count": 8,
   "id": "c333f002-270f-4f08-a61b-6a2a501939ec",
   "metadata": {},
   "outputs": [
    {
     "name": "stdout",
     "output_type": "stream",
     "text": [
      "Genes before filtering: 17998 \n",
      "Genes after filtering: 17245 \n"
     ]
    }
   ],
   "source": [
    "# Remove genes with low read counts\n",
    "keep <- rowSums(counts(dds)) >= 10\n",
    "cat(\"Genes before filtering:\", nrow(dds), \"\\n\")\n",
    "dds <- dds[keep,]\n",
    "cat(\"Genes after filtering:\", nrow(dds), \"\\n\")\n",
    "\n",
    "#make control as 1st i.e. reference level\n",
    "dds$condition <- relevel(dds$condition, ref = \"Healthy\")\n"
   ]
  },
  {
   "cell_type": "code",
   "execution_count": 9,
   "id": "b11d0e93-3031-4af6-a906-35ac992a3674",
   "metadata": {},
   "outputs": [
    {
     "name": "stderr",
     "output_type": "stream",
     "text": [
      "estimating size factors\n",
      "\n",
      "estimating dispersions\n",
      "\n",
      "gene-wise dispersion estimates\n",
      "\n",
      "mean-dispersion relationship\n",
      "\n",
      "final dispersion estimates\n",
      "\n",
      "fitting model and testing\n",
      "\n",
      "-- replacing outliers and refitting for 1932 genes\n",
      "-- DESeq argument 'minReplicatesForReplace' = 7 \n",
      "-- original counts are preserved in counts(dds)\n",
      "\n",
      "estimating dispersions\n",
      "\n",
      "fitting model and testing\n",
      "\n"
     ]
    },
    {
     "name": "stdout",
     "output_type": "stream",
     "text": [
      "DESeq2 results summary:\n",
      "\n",
      "out of 17152 with nonzero total read count\n",
      "adjusted p-value < 0.1\n",
      "LFC > 0 (up)       : 0, 0%\n",
      "LFC < 0 (down)     : 0, 0%\n",
      "outliers [1]       : 0, 0%\n",
      "low counts [2]     : 93, 0.54%\n",
      "(mean count < 0)\n",
      "[1] see 'cooksCutoff' argument of ?results\n",
      "[2] see 'independentFiltering' argument of ?results\n",
      "\n"
     ]
    }
   ],
   "source": [
    "# Step 6: Run DESeq2\n",
    "dds <- DESeq(dds)\n",
    "results <- results(dds, contrast=c(\"condition\", \"LongCOVID\", \"Healthy\"))\n",
    "cat(\"DESeq2 results summary:\\n\")\n",
    "summary(results)"
   ]
  },
  {
   "cell_type": "code",
   "execution_count": 10,
   "id": "01436b51-f8d8-43c4-81c4-7dc9380d3306",
   "metadata": {},
   "outputs": [
    {
     "name": "stdout",
     "output_type": "stream",
     "text": [
      "Number of significant DEGs (padj < 0.05 , |log2FC| > 1.5 ): 0 \n"
     ]
    }
   ],
   "source": [
    "# Step 7: Prepare results data frame\n",
    "results_df <- as.data.frame(results) %>%\n",
    "  mutate(Gene = rownames(.)) %>%\n",
    "  select(Gene, baseMean, log2FoldChange, lfcSE, stat, pvalue, padj) %>%\n",
    "  arrange(padj)\n",
    "\n",
    "# Filter significant DEGs\n",
    "deg_thresholds <- list(\n",
    "  padj = 0.05,\n",
    "  log2FoldChange = 1.5\n",
    ")\n",
    "deg_results <- results_df %>%\n",
    "  filter(padj < deg_thresholds$padj & abs(log2FoldChange) > deg_thresholds$log2FoldChange & !is.na(padj))\n",
    "cat(\"Number of significant DEGs (padj <\", deg_thresholds$padj, \", |log2FC| >\", deg_thresholds$log2FoldChange, \"):\", nrow(deg_results), \"\\n\")"
   ]
  },
  {
   "cell_type": "code",
   "execution_count": 11,
   "id": "899bc780-7fce-4d06-a043-292e45cbf21b",
   "metadata": {},
   "outputs": [
    {
     "name": "stdout",
     "output_type": "stream",
     "text": [
      "DEG results saved to 'deg_results_HC_vs_LC.csv' and 'significant_degs_HC_vs_LC.csv'\n"
     ]
    }
   ],
   "source": [
    "# Step 8: Save results\n",
    "write.csv(results, \"deg_results_HC_vs_LC.csv\", row.names=FALSE)\n",
    "write.csv(deg_results, \"significant_degs_HC_vs_LC.csv\", row.names=FALSE)\n",
    "cat(\"DEG results saved to 'deg_results_HC_vs_LC.csv' and 'significant_degs_HC_vs_LC.csv'\\n\")"
   ]
  },
  {
   "cell_type": "code",
   "execution_count": 12,
   "id": "bbd7f7db-5cfc-4b6a-998e-a2765f92c95e",
   "metadata": {},
   "outputs": [
    {
     "name": "stdout",
     "output_type": "stream",
     "text": [
      "Normalized counts saved to 'normalized_counts_HC_vs_LC.csv'\n"
     ]
    }
   ],
   "source": [
    "# Step 9: Save normalized counts\n",
    "norm_counts <- counts(dds, normalized=TRUE)\n",
    "norm_counts_df <- as.data.frame(norm_counts) %>%\n",
    "  mutate(Gene = rownames(.)) %>%\n",
    "  select(Gene, everything())\n",
    "write.csv(norm_counts_df, \"normalized_counts_HC_vs_LC.csv\", row.names=FALSE)\n",
    "cat(\"Normalized counts saved to 'normalized_counts_HC_vs_LC.csv'\\n\")"
   ]
  },
  {
   "cell_type": "code",
   "execution_count": 13,
   "id": "108dc501-3fb2-4a16-979e-e1bfe8367889",
   "metadata": {},
   "outputs": [
    {
     "name": "stdout",
     "output_type": "stream",
     "text": [
      "Volcano plot saved to 'volcano_plot_HC_vs_LC.png'\n"
     ]
    }
   ],
   "source": [
    "# Step 10: Visualize results\n",
    "# Volcano plot\n",
    "volcano_plot <- EnhancedVolcano(\n",
    "  results_df,\n",
    "  lab = results_df$Gene,\n",
    "  x = \"log2FoldChange\",\n",
    "  y = \"padj\",\n",
    "  pCutoff = deg_thresholds$padj,\n",
    "  FCcutoff = deg_thresholds$log2FoldChange,\n",
    "  title = \"Healthy vs. PsA Differential Expression\",\n",
    "  subtitle = \"Volcano Plot\",\n",
    "  pointSize = 2,\n",
    "  labSize = 3,\n",
    "  max.overlaps = 20\n",
    ")\n",
    "ggsave(\"volcano_plot_HC_vs_LC.png\", volcano_plot, width=8, height=6)\n",
    "cat(\"Volcano plot saved to 'volcano_plot_HC_vs_LC.png'\\n\")\n"
   ]
  },
  {
   "cell_type": "code",
   "execution_count": 14,
   "id": "caace8e9-b67a-4c34-a55a-86f0f8bfec1f",
   "metadata": {},
   "outputs": [
    {
     "data": {
      "text/html": [
       "<strong>pdf:</strong> 2"
      ],
      "text/latex": [
       "\\textbf{pdf:} 2"
      ],
      "text/markdown": [
       "**pdf:** 2"
      ],
      "text/plain": [
       "pdf \n",
       "  2 "
      ]
     },
     "metadata": {},
     "output_type": "display_data"
    },
    {
     "name": "stdout",
     "output_type": "stream",
     "text": [
      "MA plot saved to 'ma_plot_HC_vs_LC.png'\n"
     ]
    }
   ],
   "source": [
    "# MA plot\n",
    "png(\"ma_plot_HC_vs_LC.png\", width=800, height=600)\n",
    "plotMA(results, ylim=c(-5, 5), main=\"Healthy vs. LC MA Plot\")\n",
    "dev.off()\n",
    "cat(\"MA plot saved to 'ma_plot_HC_vs_LC.png'\\n\")"
   ]
  },
  {
   "cell_type": "code",
   "execution_count": 15,
   "id": "d7c48f3a-095a-4e33-ac2e-0212f319350f",
   "metadata": {},
   "outputs": [
    {
     "name": "stdout",
     "output_type": "stream",
     "text": [
      "No significant DEGs for heatmap\n"
     ]
    }
   ],
   "source": [
    "# Heatmap of top DEGs\n",
    "top_degs <- head(deg_results, 20)$Gene\n",
    "if (length(top_degs) > 0) {\n",
    "  top_counts <- norm_counts[top_degs, ]\n",
    "  pheatmap(\n",
    "    top_counts,\n",
    "    scale = \"row\",\n",
    "    clustering_distance_rows = \"euclidean\",\n",
    "    clustering_distance_cols = \"euclidean\",\n",
    "    main = \"Top 20 DEGs: Healthy vs. LC\",\n",
    "    filename = \"heatmap_top_degs_HC_vs_LC.png\",\n",
    "    width = 8,\n",
    "    height = 6\n",
    "  )\n",
    "  cat(\"Heatmap saved to 'heatmap_top_degs_HC_vs_LC.png'\\n\")\n",
    "} else {\n",
    "  cat(\"No significant DEGs for heatmap\\n\")\n",
    "}"
   ]
  },
  {
   "cell_type": "markdown",
   "id": "118eaed4-7c13-426a-be4c-b5f0564d8103",
   "metadata": {},
   "source": [
    "### PSA"
   ]
  },
  {
   "cell_type": "code",
   "execution_count": 16,
   "id": "4dcfde41-eb59-449f-b9fa-8267b6bef13c",
   "metadata": {},
   "outputs": [
    {
     "name": "stdout",
     "output_type": "stream",
     "text": [
      "GSE1179800 dimensions: 17998 10 \n",
      "GSE205748 dimensions: 17998 27 \n"
     ]
    }
   ],
   "source": [
    "# Step 1: Read datasets\n",
    "gse1179800 <- read.csv(\"PSA/GSE179800_SKB-counts_common.csv\", sep=\",\", row.names=1, check.names=FALSE)\n",
    "gse205748 <- read.csv(\"PSA/GSE205748_read_count_processed_common.csv\", sep=\",\", row.names=1, check.names=FALSE)\n",
    "cat(\"GSE1179800 dimensions:\", dim(gse1179800), \"\\n\")\n",
    "cat(\"GSE205748 dimensions:\", dim(gse205748), \"\\n\")"
   ]
  },
  {
   "cell_type": "code",
   "execution_count": 17,
   "id": "5ee97dde-77bd-4725-a106-390a74791fd1",
   "metadata": {},
   "outputs": [
    {
     "name": "stdout",
     "output_type": "stream",
     "text": [
      "Aligned to common genes: 17998 \n"
     ]
    }
   ],
   "source": [
    "# Verify gene alignment\n",
    "if (!identical(rownames(gse1179800), rownames(gse205748))) {\n",
    "  common_genes <- intersect(rownames(gse1179800), rownames(gse205748))\n",
    " gse1179800 <- gse1179800[common_genes, ]\n",
    "  gse205748 <- gse205748[common_genes, ]\n",
    "  cat(\"Aligned to common genes:\", length(common_genes), \"\\n\")\n",
    "}"
   ]
  },
  {
   "cell_type": "code",
   "execution_count": 18,
   "id": "e86dce02-ff10-4bf3-82a8-28ca403ad20f",
   "metadata": {},
   "outputs": [
    {
     "name": "stdout",
     "output_type": "stream",
     "text": [
      "Merged count data dimensions: 17998 37 \n"
     ]
    }
   ],
   "source": [
    "# Step 2: Merge datasets\n",
    "count_data <- cbind(gse1179800 ,gse205748)  \n",
    "cat(\"Merged count data dimensions:\", dim(count_data), \"\\n\")"
   ]
  },
  {
   "cell_type": "code",
   "execution_count": 19,
   "id": "ccf858af-1652-4beb-a2d1-144275bc5f4e",
   "metadata": {},
   "outputs": [
    {
     "name": "stdout",
     "output_type": "stream",
     "text": [
      "Sample counts:\n",
      "\n",
      "Healthy     PsA \n",
      "     14      23 \n"
     ]
    }
   ],
   "source": [
    "# Step 3: Prepare metadata\n",
    "samples <- colnames(count_data)\n",
    "condition <- ifelse(grepl(\"^HC\", samples, ignore.case=TRUE), \"Healthy\",\n",
    "                   ifelse(grepl(\"^PA\", samples, ignore.case=TRUE), \"PsA\", NA))\n",
    "if (any(is.na(condition))) {\n",
    "  stop(\"Some samples lack HC or PA prefix: \", paste(samples[is.na(condition)], collapse=\", \"))\n",
    "}\n",
    "col_data <- data.frame(\n",
    "  sample = samples,\n",
    "  condition = factor(condition, levels=c(\"Healthy\", \"PsA\")),\n",
    "  row.names = samples\n",
    ")\n",
    "cat(\"Sample counts:\\n\")\n",
    "print(table(col_data$condition))"
   ]
  },
  {
   "cell_type": "code",
   "execution_count": 20,
   "id": "48c579d2-96ed-4101-8d48-5f21a5e439bb",
   "metadata": {},
   "outputs": [
    {
     "name": "stdout",
     "output_type": "stream",
     "text": [
      "Count data verified as integers\n"
     ]
    }
   ],
   "source": [
    "# Step 4: Verify raw counts\n",
    "if (any(count_data < 0 | count_data %% 1 != 0)) {\n",
    "  stop(\"Count data contains non-integer or negative values\")\n",
    "}\n",
    "cat(\"Count data verified as integers\\n\")"
   ]
  },
  {
   "cell_type": "code",
   "execution_count": 21,
   "id": "3fad7919-a2f1-40f1-9a8f-9949f21438fe",
   "metadata": {},
   "outputs": [
    {
     "name": "stderr",
     "output_type": "stream",
     "text": [
      "converting counts to integer mode\n",
      "\n"
     ]
    }
   ],
   "source": [
    "# Step 5: Create DESeq2 dataset\n",
    "dds <- DESeqDataSetFromMatrix(\n",
    "  countData = round(count_data),\n",
    "  colData = col_data,\n",
    "  design = ~ condition\n",
    ")"
   ]
  },
  {
   "cell_type": "code",
   "execution_count": 22,
   "id": "90ddfd30-9250-4d4a-b2aa-bcdcf424643f",
   "metadata": {},
   "outputs": [
    {
     "name": "stdout",
     "output_type": "stream",
     "text": [
      "Genes before filtering: 17998 \n",
      "Genes after filtering: 16796 \n"
     ]
    }
   ],
   "source": [
    "# Remove genes with low read counts\n",
    "keep <- rowSums(counts(dds)) >= 10\n",
    "cat(\"Genes before filtering:\", nrow(dds), \"\\n\")\n",
    "dds <- dds[keep,]\n",
    "cat(\"Genes after filtering:\", nrow(dds), \"\\n\")"
   ]
  },
  {
   "cell_type": "code",
   "execution_count": 23,
   "id": "2402dfc7-2d3f-4bcb-8a50-4adc5d8e67a5",
   "metadata": {},
   "outputs": [],
   "source": [
    "#make control as 1st i.e. reference level\n",
    "dds$condition <- relevel(dds$condition, ref = \"Healthy\")\n"
   ]
  },
  {
   "cell_type": "code",
   "execution_count": 24,
   "id": "0f270b01-9947-481c-bdd8-601fcca6c28e",
   "metadata": {},
   "outputs": [
    {
     "name": "stderr",
     "output_type": "stream",
     "text": [
      "estimating size factors\n",
      "\n",
      "estimating dispersions\n",
      "\n",
      "gene-wise dispersion estimates\n",
      "\n",
      "mean-dispersion relationship\n",
      "\n",
      "final dispersion estimates\n",
      "\n",
      "fitting model and testing\n",
      "\n",
      "-- replacing outliers and refitting for 399 genes\n",
      "-- DESeq argument 'minReplicatesForReplace' = 7 \n",
      "-- original counts are preserved in counts(dds)\n",
      "\n",
      "estimating dispersions\n",
      "\n",
      "fitting model and testing\n",
      "\n"
     ]
    },
    {
     "name": "stdout",
     "output_type": "stream",
     "text": [
      "\n",
      "out of 16795 with nonzero total read count\n",
      "adjusted p-value < 0.1\n",
      "LFC > 0 (up)       : 374, 2.2%\n",
      "LFC < 0 (down)     : 202, 1.2%\n",
      "outliers [1]       : 0, 0%\n",
      "low counts [2]     : 327, 1.9%\n",
      "(mean count < 1)\n",
      "[1] see 'cooksCutoff' argument of ?results\n",
      "[2] see 'independentFiltering' argument of ?results\n",
      "\n"
     ]
    }
   ],
   "source": [
    "# Step 6: Run DESeq2\n",
    "dds <- DESeq(dds)\n",
    "results <- results(dds, contrast = c(\"condition\", \"PsA\", \"Healthy\"))\n",
    "summary(results)"
   ]
  },
  {
   "cell_type": "code",
   "execution_count": 25,
   "id": "98dacda4-af50-49ce-a873-839939b05ed4",
   "metadata": {},
   "outputs": [
    {
     "data": {
      "text/plain": [
       "log2 fold change (MLE): condition PsA vs Healthy \n",
       "Wald test p-value: condition PsA vs Healthy \n",
       "DataFrame with 16796 rows and 6 columns\n",
       "         baseMean log2FoldChange     lfcSE       stat      pvalue      padj\n",
       "        <numeric>      <numeric> <numeric>  <numeric>   <numeric> <numeric>\n",
       "SAMD11    16.6876     -0.5679930  0.700246 -0.8111338    0.417289  0.889162\n",
       "NOC2L   1803.9901      0.3786333  0.453773  0.8344105    0.404050  0.884748\n",
       "KLHL17   297.9842     -0.1730466  0.310923 -0.5565578    0.577830  0.942057\n",
       "PLEKHN1  947.7733     -0.1086288  0.833639 -0.1303068    0.896324  0.990671\n",
       "PERM1    325.4700      0.0327548  0.833899  0.0392791    0.968668  0.998030\n",
       "...           ...            ...       ...        ...         ...       ...\n",
       "TMSB4Y   16.64644      -0.212171   1.60128  -0.132501 0.894588340 0.9906707\n",
       "NLGN4Y   45.93235       0.218560   2.03796   0.107245 0.914594658 0.9919965\n",
       "KDM5D   433.07681      -0.864005   1.40539  -0.614780 0.538700020 0.9325875\n",
       "EIF1AY  712.03270      -0.444098   1.60331  -0.276989 0.781788920 0.9794581\n",
       "RPS4Y2    5.61532      -6.223530   1.83743  -3.387088 0.000706386 0.0399834"
      ]
     },
     "metadata": {},
     "output_type": "display_data"
    }
   ],
   "source": [
    "results"
   ]
  },
  {
   "cell_type": "code",
   "execution_count": 26,
   "id": "9321f84e-cbb6-483e-91ca-d1b467fae0c9",
   "metadata": {},
   "outputs": [
    {
     "name": "stdout",
     "output_type": "stream",
     "text": [
      "Number of significant DEGs (padj < 0.05 , |log2FC| > 1.5 ): 165 \n"
     ]
    }
   ],
   "source": [
    "# Step 7: Prepare results data frame\n",
    "results_df <- as.data.frame(results) %>%\n",
    "  mutate(Gene = rownames(.)) %>%\n",
    "  select(Gene, baseMean, log2FoldChange, lfcSE, stat, pvalue, padj) %>%\n",
    "  arrange(padj)\n",
    "\n",
    "# Filter significant DEGs\n",
    "deg_thresholds <- list(\n",
    "  padj = 0.05,\n",
    "  log2FoldChange = 1.5\n",
    ")\n",
    "deg_results <- results_df %>%\n",
    "  filter(padj < deg_thresholds$padj & abs(log2FoldChange) > deg_thresholds$log2FoldChange & !is.na(padj))\n",
    "cat(\"Number of significant DEGs (padj <\", deg_thresholds$padj, \", |log2FC| >\", deg_thresholds$log2FoldChange, \"):\", nrow(deg_results), \"\\n\")\n"
   ]
  },
  {
   "cell_type": "code",
   "execution_count": 27,
   "id": "f174e405-c0b1-483d-8f1d-9d2fa13dab73",
   "metadata": {},
   "outputs": [
    {
     "name": "stdout",
     "output_type": "stream",
     "text": [
      "DEG results saved to 'deg_results_HC_vs_PSA.csv' and 'significant_degs_HC_vs_PSA.csv'\n"
     ]
    }
   ],
   "source": [
    "# Step 8: Save results\n",
    "write.csv(results, \"deg_results_HC_vs_PSA.csv\", row.names=FALSE)\n",
    "write.csv(deg_results, \"significant_degs_HC_vs_PSA.csv\", row.names=FALSE)\n",
    "cat(\"DEG results saved to 'deg_results_HC_vs_PSA.csv' and 'significant_degs_HC_vs_PSA.csv'\\n\")"
   ]
  },
  {
   "cell_type": "code",
   "execution_count": 28,
   "id": "2c8607a6-52bc-4ed7-b6e4-8f01dc40c2de",
   "metadata": {},
   "outputs": [
    {
     "name": "stdout",
     "output_type": "stream",
     "text": [
      "Normalized counts saved to 'normalized_counts_HC_vs_PsA.csv'\n"
     ]
    }
   ],
   "source": [
    "# Step 9: Save normalized counts\n",
    "norm_counts <- counts(dds, normalized=TRUE)\n",
    "norm_counts_df <- as.data.frame(norm_counts) %>%\n",
    "  mutate(Gene = rownames(.)) %>%\n",
    "  select(Gene, everything())\n",
    "write.csv(norm_counts_df, \"normalized_counts_HC_vs_PsA.csv\", row.names=FALSE)\n",
    "cat(\"Normalized counts saved to 'normalized_counts_HC_vs_PsA.csv'\\n\")"
   ]
  },
  {
   "cell_type": "code",
   "execution_count": 29,
   "id": "fcfd4fd1-dc13-4713-9e7d-141cbb6fa976",
   "metadata": {},
   "outputs": [
    {
     "name": "stdout",
     "output_type": "stream",
     "text": [
      "Volcano plot saved to 'volcano_plot_HC_vs_PsA.png'\n"
     ]
    }
   ],
   "source": [
    "# Step 10: Visualize results\n",
    "# Volcano plot\n",
    "volcano_plot <- EnhancedVolcano(\n",
    "  results_df,\n",
    "  lab = results_df$Gene,\n",
    "  x = \"log2FoldChange\",\n",
    "  y = \"padj\",\n",
    "  pCutoff = deg_thresholds$padj,\n",
    "  FCcutoff = deg_thresholds$log2FoldChange,\n",
    "  title = \"Healthy vs. PsA Differential Expression\",\n",
    "  subtitle = \"Volcano Plot\",\n",
    "  pointSize = 2,\n",
    "  labSize = 3,\n",
    "  max.overlaps = 20\n",
    ")\n",
    "ggsave(\"volcano_plot_HC_vs_PsA.png\", volcano_plot, width=8, height=6)\n",
    "cat(\"Volcano plot saved to 'volcano_plot_HC_vs_PsA.png'\\n\")\n"
   ]
  },
  {
   "cell_type": "code",
   "execution_count": 30,
   "id": "ed14b04f-dc3a-4e81-8bb3-ef959d537c12",
   "metadata": {},
   "outputs": [
    {
     "data": {
      "text/html": [
       "<strong>pdf:</strong> 2"
      ],
      "text/latex": [
       "\\textbf{pdf:} 2"
      ],
      "text/markdown": [
       "**pdf:** 2"
      ],
      "text/plain": [
       "pdf \n",
       "  2 "
      ]
     },
     "metadata": {},
     "output_type": "display_data"
    },
    {
     "name": "stdout",
     "output_type": "stream",
     "text": [
      "MA plot saved to 'ma_plot_HC_vs_PsA.png'\n"
     ]
    }
   ],
   "source": [
    "# MA plot\n",
    "png(\"ma_plot_HC_vs_PsA.png\", width=800, height=600)\n",
    "plotMA(results, ylim=c(-5, 5), main=\"Healthy vs. PsA MA Plot\")\n",
    "dev.off()\n",
    "cat(\"MA plot saved to 'ma_plot_HC_vs_PsA.png'\\n\")"
   ]
  },
  {
   "cell_type": "code",
   "execution_count": 31,
   "id": "20ac2ff1-4f1b-4628-bbb9-92e3f5b62b4f",
   "metadata": {},
   "outputs": [
    {
     "name": "stdout",
     "output_type": "stream",
     "text": [
      "Heatmap saved to 'heatmap_top_degs_HC_vs_PsA.png'\n"
     ]
    }
   ],
   "source": [
    "# Heatmap of top DEGs\n",
    "top_degs <- head(deg_results, 20)$Gene\n",
    "if (length(top_degs) > 0) {\n",
    "  top_counts <- norm_counts[top_degs, ]\n",
    "  pheatmap(\n",
    "    top_counts,\n",
    "    scale = \"row\",\n",
    "    clustering_distance_rows = \"euclidean\",\n",
    "    clustering_distance_cols = \"euclidean\",\n",
    "    main = \"Top 20 DEGs: Healthy vs. PsA\",\n",
    "    filename = \"heatmap_top_degs_HC_vs_PsA.png\",\n",
    "    width = 8,\n",
    "    height = 6\n",
    "  )\n",
    "  cat(\"Heatmap saved to 'heatmap_top_degs_HC_vs_PsA.png'\\n\")\n",
    "} else {\n",
    "  cat(\"No significant DEGs for heatmap\\n\")\n",
    "}"
   ]
  },
  {
   "cell_type": "markdown",
   "id": "554f255c-0807-4dcc-abab-edf7d81996d6",
   "metadata": {},
   "source": [
    "### Covid-19"
   ]
  },
  {
   "cell_type": "code",
   "execution_count": 32,
   "id": "cb1c5b25-5390-4bb2-8227-0a38a480f5d0",
   "metadata": {},
   "outputs": [
    {
     "name": "stdout",
     "output_type": "stream",
     "text": [
      "GSE224615 dimensions: 17998 36 \n",
      "GSE251849 dimensions: 17998 18 \n",
      "GSE202805 dimensions: 43738 80 \n",
      "GSE293708 dimensions: 19534 16 \n"
     ]
    }
   ],
   "source": [
    "# Step 1: Read datasets\n",
    "gse202805 <- read.csv(\"C19/GSE202805_genecounts_processed.txt\", sep=\"\\t\", row.names=1, check.names=FALSE)\n",
    "gse293708 <- read.csv(\"C19/GSE293708_raw_counts.tsv\", sep=\"\\t\", row.names=1, check.names=FALSE)\n",
    "gse224615 <- read.csv(\"LC/GSE224615_raw_counts_GRCh38.p13_NCBI_processed_common.tsv\", sep=\"\\t\", row.names=1, check.names=FALSE)\n",
    "gse251849 <- read.csv(\"LC/GSE251849_raw_counts_GRCh38.p13_NCBI_processed_common.tsv\", sep=\"\\t\", row.names=1, check.names=FALSE)\n",
    "cat(\"GSE224615 dimensions:\", dim(gse224615), \"\\n\")\n",
    "cat(\"GSE251849 dimensions:\", dim(gse251849), \"\\n\")\n",
    "cat(\"GSE202805 dimensions:\", dim(gse202805), \"\\n\")\n",
    "cat(\"GSE293708 dimensions:\", dim(gse293708), \"\\n\")"
   ]
  },
  {
   "cell_type": "code",
   "execution_count": 33,
   "id": "13e2d09b-5958-47ad-976d-bc244ccbeb1a",
   "metadata": {},
   "outputs": [
    {
     "name": "stderr",
     "output_type": "stream",
     "text": [
      "Warning message in rownames(gse202805) == rownames(gse293708):\n",
      "\"longer object length is not a multiple of shorter object length\"\n",
      "Warning message in rownames(gse202805) == rownames(gse224615):\n",
      "\"longer object length is not a multiple of shorter object length\"\n",
      "Warning message in rownames(gse202805) == rownames(gse251849):\n",
      "\"longer object length is not a multiple of shorter object length\"\n"
     ]
    },
    {
     "name": "stdout",
     "output_type": "stream",
     "text": [
      "Aligned to common genes: 17302 \n"
     ]
    }
   ],
   "source": [
    "# Verify gene alignment\n",
    "if (!all(rownames(gse202805) == rownames(gse293708) & \n",
    "         rownames(gse202805) == rownames(gse224615) & \n",
    "         rownames(gse202805) == rownames(gse251849))) {\n",
    "  common_genes <- Reduce(intersect, list(rownames(gse202805), \n",
    "                                         rownames(gse293708), \n",
    "                                         rownames(gse224615), \n",
    "                                         rownames(gse251849)))\n",
    "  gse202805 <- gse202805[common_genes, , drop = FALSE]\n",
    "  gse293708 <- gse293708[common_genes, , drop = FALSE]\n",
    "  gse224615 <- gse224615[common_genes, , drop = FALSE]\n",
    "  gse251849 <- gse251849[common_genes, , drop = FALSE]\n",
    "  cat(\"Aligned to common genes:\", length(common_genes), \"\\n\")\n",
    "} else {\n",
    "  cat(\"All datasets already have identical gene sets:\", length(rownames(gse202805)), \"genes\\n\")\n",
    "}"
   ]
  },
  {
   "cell_type": "code",
   "execution_count": 34,
   "id": "a3414b53-a798-4cb3-89cb-1d8d9cd66eed",
   "metadata": {},
   "outputs": [
    {
     "name": "stdout",
     "output_type": "stream",
     "text": [
      "Merged count data dimensions: 17302 150 \n"
     ]
    }
   ],
   "source": [
    "# Step 2: Merge datasets\n",
    "count_data <- cbind(gse202805 ,gse293708, gse224615, gse251849)  \n",
    "cat(\"Merged count data dimensions:\", dim(count_data), \"\\n\")"
   ]
  },
  {
   "cell_type": "code",
   "execution_count": 35,
   "id": "65f3d38b-8f52-4496-9862-26b760f4df01",
   "metadata": {},
   "outputs": [
    {
     "name": "stdout",
     "output_type": "stream",
     "text": [
      "Dropped samples with unexpected prefixes: LC1, LC2, LC3, LC4, LC5, LC6, LC7, LC8, LC9, LC10, LC11, LC12, LC13, LC14, LC15, LC16, LC17, LC18, LC19, LC20, LC21, LC22, LC23, LC24, LC25, LC26, LC27, LC28, LC29, LC30, LC31, LC32, LC33, LC34 \n",
      "Sample counts:\n",
      "\n",
      "Healthy   Covid \n",
      "     34      82 \n"
     ]
    }
   ],
   "source": [
    "# Step 3: Prepare metadata\n",
    "# Extract sample names\n",
    "samples <- colnames(count_data)\n",
    "\n",
    "# Identify samples to keep (those starting with HC or C, case-insensitive)\n",
    "keep_samples <- grepl(\"^(HC|C)\", samples, ignore.case = TRUE)\n",
    "\n",
    "# Check if any samples are being dropped\n",
    "dropped_samples <- samples[!keep_samples]\n",
    "if (length(dropped_samples) > 0) {\n",
    "  cat(\"Dropped samples with unexpected prefixes:\", paste(dropped_samples, collapse = \", \"), \"\\n\")\n",
    "}\n",
    "\n",
    "# Subset count_data to keep only valid samples\n",
    "count_data <- count_data[, keep_samples, drop = FALSE]\n",
    "samples <- colnames(count_data)  # Update samples list\n",
    "\n",
    "# Assign conditions\n",
    "condition <- ifelse(grepl(\"^HC\", samples, ignore.case = TRUE), \"Healthy\", \"Covid\")\n",
    "\n",
    "# Create metadata\n",
    "col_data <- data.frame(\n",
    "  sample = samples,\n",
    "  condition = factor(condition, levels = c(\"Healthy\", \"Covid\")),\n",
    "  row.names = samples\n",
    ")\n",
    "\n",
    "# Print sample counts\n",
    "cat(\"Sample counts:\\n\")\n",
    "print(table(col_data$condition))"
   ]
  },
  {
   "cell_type": "code",
   "execution_count": 36,
   "id": "903537da-22a2-46c1-9821-a27006b6c45d",
   "metadata": {},
   "outputs": [
    {
     "name": "stdout",
     "output_type": "stream",
     "text": [
      "Count data verified as integers\n"
     ]
    }
   ],
   "source": [
    "# Step 4: Verify raw counts\n",
    "if (any(count_data < 0 | count_data %% 1 != 0)) {\n",
    "  stop(\"Count data contains non-integer or negative values\")\n",
    "}\n",
    "cat(\"Count data verified as integers\\n\")"
   ]
  },
  {
   "cell_type": "code",
   "execution_count": 37,
   "id": "c30deaa5-71c2-4166-aa0d-3e65ae680b75",
   "metadata": {},
   "outputs": [
    {
     "name": "stderr",
     "output_type": "stream",
     "text": [
      "converting counts to integer mode\n",
      "\n"
     ]
    }
   ],
   "source": [
    "# Step 5: Create DESeq2 dataset\n",
    "dds <- DESeqDataSetFromMatrix(\n",
    "  countData = round(count_data),\n",
    "  colData = col_data,\n",
    "  design = ~ condition\n",
    ")"
   ]
  },
  {
   "cell_type": "code",
   "execution_count": 38,
   "id": "a760ae47-56c9-4de2-b72f-73ef223a349b",
   "metadata": {},
   "outputs": [
    {
     "name": "stdout",
     "output_type": "stream",
     "text": [
      "Genes before filtering: 17302 \n",
      "Genes after filtering: 15794 \n"
     ]
    }
   ],
   "source": [
    "# Remove genes with low read counts\n",
    "keep <- rowSums(counts(dds)) >= 10\n",
    "cat(\"Genes before filtering:\", nrow(dds), \"\\n\")\n",
    "dds <- dds[keep,]\n",
    "cat(\"Genes after filtering:\", nrow(dds), \"\\n\")"
   ]
  },
  {
   "cell_type": "code",
   "execution_count": 39,
   "id": "7bc282fe-f723-4b17-be41-22e566f83c01",
   "metadata": {},
   "outputs": [],
   "source": [
    "#make control as 1st i.e. reference level\n",
    "dds$condition <- relevel(dds$condition, ref = \"Healthy\")\n"
   ]
  },
  {
   "cell_type": "code",
   "execution_count": 40,
   "id": "d56c7b4e-25a4-4171-9898-dd96cc412f98",
   "metadata": {},
   "outputs": [
    {
     "name": "stderr",
     "output_type": "stream",
     "text": [
      "estimating size factors\n",
      "\n",
      "estimating dispersions\n",
      "\n",
      "gene-wise dispersion estimates\n",
      "\n",
      "mean-dispersion relationship\n",
      "\n",
      "final dispersion estimates\n",
      "\n",
      "fitting model and testing\n",
      "\n",
      "-- replacing outliers and refitting for 1370 genes\n",
      "-- DESeq argument 'minReplicatesForReplace' = 7 \n",
      "-- original counts are preserved in counts(dds)\n",
      "\n",
      "estimating dispersions\n",
      "\n",
      "fitting model and testing\n",
      "\n"
     ]
    },
    {
     "name": "stdout",
     "output_type": "stream",
     "text": [
      "\n",
      "out of 15772 with nonzero total read count\n",
      "adjusted p-value < 0.1\n",
      "LFC > 0 (up)       : 3839, 24%\n",
      "LFC < 0 (down)     : 4725, 30%\n",
      "outliers [1]       : 0, 0%\n",
      "low counts [2]     : 22, 0.14%\n",
      "(mean count < 0)\n",
      "[1] see 'cooksCutoff' argument of ?results\n",
      "[2] see 'independentFiltering' argument of ?results\n",
      "\n"
     ]
    }
   ],
   "source": [
    "# Step 6: Run DESeq2\n",
    "dds <- DESeq(dds)\n",
    "results <- results(dds, contrast = c(\"condition\", \"Covid\", \"Healthy\"))\n",
    "summary(results)"
   ]
  },
  {
   "cell_type": "code",
   "execution_count": 41,
   "id": "541432fc-b7be-4f97-9f79-d69763df0c1d",
   "metadata": {},
   "outputs": [
    {
     "name": "stdout",
     "output_type": "stream",
     "text": [
      "Number of significant DEGs (padj < 0.05 , |log2FC| > 1.5 ): 2346 \n"
     ]
    }
   ],
   "source": [
    "# Step 7: Prepare results data frame\n",
    "results_df <- as.data.frame(results) %>%\n",
    "  mutate(Gene = rownames(.)) %>%\n",
    "  select(Gene, baseMean, log2FoldChange, lfcSE, stat, pvalue, padj) %>%\n",
    "  arrange(padj)\n",
    "\n",
    "# Filter significant DEGs\n",
    "deg_thresholds <- list(\n",
    "  padj = 0.05,\n",
    "  log2FoldChange = 1.5\n",
    ")\n",
    "deg_results <- results_df %>%\n",
    "  filter(padj < deg_thresholds$padj & abs(log2FoldChange) > deg_thresholds$log2FoldChange & !is.na(padj))\n",
    "cat(\"Number of significant DEGs (padj <\", deg_thresholds$padj, \", |log2FC| >\", deg_thresholds$log2FoldChange, \"):\", nrow(deg_results), \"\\n\")"
   ]
  },
  {
   "cell_type": "code",
   "execution_count": 42,
   "id": "14f82297-66fd-4fab-ac7c-cab92b6237a8",
   "metadata": {},
   "outputs": [
    {
     "name": "stdout",
     "output_type": "stream",
     "text": [
      "DEG results saved to 'deg_results_HC_vs_C19.csv' and 'significant_degs_HC_vs_C19.csv'\n"
     ]
    }
   ],
   "source": [
    "# Step 8: Save results\n",
    "write.csv(results, \"deg_results_HC_vs_C19.csv\", row.names=FALSE)\n",
    "write.csv(deg_results, \"significant_degs_HC_vs_C19.csv\", row.names=FALSE)\n",
    "cat(\"DEG results saved to 'deg_results_HC_vs_C19.csv' and 'significant_degs_HC_vs_C19.csv'\\n\")"
   ]
  },
  {
   "cell_type": "code",
   "execution_count": 43,
   "id": "083f0c9d-8d15-472d-adfa-133693c2ddf7",
   "metadata": {},
   "outputs": [
    {
     "name": "stdout",
     "output_type": "stream",
     "text": [
      "DEG results saved to 'deg_results_HC_vs_C19.csv' and 'significant_degs_HC_vs_C19.csv'\n"
     ]
    }
   ],
   "source": [
    "# Step 8: Save results\n",
    "write.csv(results, \"deg_results_HC_vs_C19.csv\", row.names=FALSE)\n",
    "write.csv(deg_results, \"significant_degs_HC_vs_C19.csv\", row.names=FALSE)\n",
    "cat(\"DEG results saved to 'deg_results_HC_vs_C19.csv' and 'significant_degs_HC_vs_C19.csv'\\n\")"
   ]
  },
  {
   "cell_type": "code",
   "execution_count": 44,
   "id": "70409182-cca4-4ed3-8fc8-a1de9cf0f42e",
   "metadata": {},
   "outputs": [
    {
     "name": "stdout",
     "output_type": "stream",
     "text": [
      "Normalized counts saved to 'normalized_counts_HC_vs_C19.csv'\n"
     ]
    }
   ],
   "source": [
    "# Step 9: Save normalized counts\n",
    "norm_counts <- counts(dds, normalized=TRUE)\n",
    "norm_counts_df <- as.data.frame(norm_counts) %>%\n",
    "  mutate(Gene = rownames(.)) %>%\n",
    "  select(Gene, everything())\n",
    "write.csv(norm_counts_df, \"normalized_counts_HC_vs_C19.csv\", row.names=FALSE)\n",
    "cat(\"Normalized counts saved to 'normalized_counts_HC_vs_C19.csv'\\n\")"
   ]
  },
  {
   "cell_type": "code",
   "execution_count": 45,
   "id": "f17a389d-816c-4195-a304-d40f353d3f2f",
   "metadata": {},
   "outputs": [
    {
     "name": "stdout",
     "output_type": "stream",
     "text": [
      "Volcano plot saved to 'volcano_plot_HC_vs_C19.png'\n"
     ]
    }
   ],
   "source": [
    "# Step 10: Visualize results\n",
    "# Volcano plot\n",
    "volcano_plot <- EnhancedVolcano(\n",
    "  results_df,\n",
    "  lab = results_df$Gene,\n",
    "  x = \"log2FoldChange\",\n",
    "  y = \"padj\",\n",
    "  pCutoff = deg_thresholds$padj,\n",
    "  FCcutoff = deg_thresholds$log2FoldChange,\n",
    "  title = \"Healthy vs. Covid-19 Differential Expression\",\n",
    "  subtitle = \"Volcano Plot\",\n",
    "  pointSize = 2,\n",
    "  labSize = 3,\n",
    "  max.overlaps = 20\n",
    ")\n",
    "ggsave(\"volcano_plot_HC_vs_C19.png\", volcano_plot, width=8, height=6)\n",
    "cat(\"Volcano plot saved to 'volcano_plot_HC_vs_C19.png'\\n\")\n"
   ]
  },
  {
   "cell_type": "code",
   "execution_count": 46,
   "id": "4ecdafda-a63b-4b43-8f60-7f59eeb88f4c",
   "metadata": {},
   "outputs": [
    {
     "data": {
      "text/html": [
       "<strong>pdf:</strong> 2"
      ],
      "text/latex": [
       "\\textbf{pdf:} 2"
      ],
      "text/markdown": [
       "**pdf:** 2"
      ],
      "text/plain": [
       "pdf \n",
       "  2 "
      ]
     },
     "metadata": {},
     "output_type": "display_data"
    },
    {
     "name": "stdout",
     "output_type": "stream",
     "text": [
      "MA plot saved to 'ma_plot_HC_vs_C19.png'\n"
     ]
    }
   ],
   "source": [
    "# MA plot\n",
    "png(\"ma_plot_HC_vs_C19.png\", width=800, height=600)\n",
    "plotMA(results, ylim=c(-5, 5), main=\"Healthy vs. Covid-19 MA Plot\")\n",
    "dev.off()\n",
    "cat(\"MA plot saved to 'ma_plot_HC_vs_C19.png'\\n\")"
   ]
  },
  {
   "cell_type": "code",
   "execution_count": 47,
   "id": "51ed90fe-724e-4d80-85c5-e37f2741a965",
   "metadata": {},
   "outputs": [
    {
     "name": "stdout",
     "output_type": "stream",
     "text": [
      "Heatmap saved to 'heatmap_top_degs_HC_vs_C19.png'\n"
     ]
    }
   ],
   "source": [
    "# Heatmap of top DEGs\n",
    "top_degs <- head(deg_results, 20)$Gene\n",
    "if (length(top_degs) > 0) {\n",
    "  top_counts <- norm_counts[top_degs, ]\n",
    "  pheatmap(\n",
    "    top_counts,\n",
    "    scale = \"row\",\n",
    "    clustering_distance_rows = \"euclidean\",\n",
    "    clustering_distance_cols = \"euclidean\",\n",
    "    main = \"Top 20 DEGs: Healthy vs. Covid-19\",\n",
    "    filename = \"heatmap_top_degs_HC_vs_C19.png\",\n",
    "    width = 8,\n",
    "    height = 6\n",
    "  )\n",
    "  cat(\"Heatmap saved to 'heatmap_top_degs_HC_vs_C19.png'\\n\")\n",
    "} else {\n",
    "  cat(\"No significant DEGs for heatmap\\n\")\n",
    "}"
   ]
  },
  {
   "cell_type": "markdown",
   "id": "6d5c486a-91bd-4ccd-98f6-73281e2a1ecd",
   "metadata": {},
   "source": [
    "## Post Processing"
   ]
  },
  {
   "cell_type": "markdown",
   "id": "1cc53389-fdcf-4c32-8fde-eedd8d4bf27d",
   "metadata": {},
   "source": [
    "### WCGNA"
   ]
  },
  {
   "cell_type": "code",
   "execution_count": null,
   "id": "7b56d317-4c2c-4fe8-935a-a9f86d6202ee",
   "metadata": {},
   "outputs": [],
   "source": []
  },
  {
   "cell_type": "code",
   "execution_count": 8,
   "id": "414c2bca-569a-4ca8-aa2a-09227cfe9296",
   "metadata": {},
   "outputs": [
    {
     "name": "stdout",
     "output_type": "stream",
     "text": [
      "Allowing parallel execution with up to 11 working processes.\n",
      "Number of common genes: 15483 \n",
      "Sample counts:\n",
      "\n",
      "Healthy     PsA   Covid \n",
      "     48      23      82 \n",
      "Selected 3871 genes with top 25% variance\n",
      "count_data dimensions: 3871 153 \n",
      "First few row names (genes): ISG15 AGRN SDF4 UBE2J2 ACAP3 \n",
      "First few column names (samples): PA19.PsA PA20.PsA PA21.PsA PA22.PsA PA23.PsA \n",
      "Any missing values: 0 \n",
      "Data type check: TRUE \n",
      " Flagging genes and samples with too many missing values...\n",
      "  ..step 1\n",
      "Transposed count_data dimensions: 153 3871 \n",
      "pickSoftThreshold: will use block size 3871.\n",
      " pickSoftThreshold: calculating connectivity for given powers...\n",
      "   ..working on genes 1 through 3871 of 3871\n",
      "   Power SFT.R.sq  slope truncated.R.sq mean.k. median.k. max.k.\n",
      "1      1    0.872  1.940          0.898  1260.0   1310.00   1800\n",
      "2      2    0.395  0.408          0.870   648.0    657.00   1190\n",
      "3      3    0.199 -0.246          0.650   410.0    390.00    931\n",
      "4      4    0.588 -0.553          0.706   289.0    258.00    767\n",
      "5      5    0.725 -0.696          0.771   218.0    176.00    650\n",
      "6      6    0.775 -0.779          0.805   171.0    126.00    566\n",
      "7      7    0.758 -0.859          0.784   139.0     92.50    502\n",
      "8      8    0.750 -0.914          0.783   115.0     69.10    450\n",
      "9      9    0.743 -0.951          0.790    97.1     52.20    407\n",
      "10    10    0.749 -0.983          0.806    83.0     40.30    370\n",
      "11    12    0.777 -1.010          0.854    62.6     25.30    311\n",
      "12    14    0.765 -1.060          0.858    48.7     16.60    265\n",
      "13    16    0.783 -1.080          0.878    38.8     11.60    229\n",
      "14    18    0.791 -1.100          0.892    31.5      8.35    200\n",
      "15    20    0.800 -1.110          0.901    26.0      6.07    176\n",
      "Selected soft-thresholding power: 1 \n",
      "Running single-block WGCNA\n",
      "..connectivity..\n",
      "..matrix multiplication (system BLAS)..\n",
      "..normalization..\n",
      "..done.\n",
      " ..cutHeight not given, setting it to 0.706  ===>  99% of the (truncated) height range in dendro.\n",
      " ..done.\n",
      "Length of module_colors: 3871 \n",
      "Module sizes:\n",
      "\n",
      "    black      blue     brown     green   magenta      pink    purple       red \n",
      "       81       967       623       251        57        63        42       127 \n",
      "turquoise    yellow \n",
      "     1374       286 \n",
      "PsA-associated module: MEblue \n",
      "Covid-associated module: MEyellow \n",
      "Number of genes in PsA module ( blue ): 967 \n",
      "Number of genes in Covid module ( yellow ): 286 \n",
      "PsA module-DEG overlap: 20 genes\n",
      "Covid module-DEG overlap: 80 genes\n",
      "Output files generation complete\n"
     ]
    }
   ],
   "source": [
    "# Load required libraries\n",
    "library(WGCNA)\n",
    "library(dplyr)\n",
    "library(matrixStats)\n",
    "library(data.table)\n",
    "options(stringsAsFactors = FALSE)\n",
    "enableWGCNAThreads()\n",
    "\n",
    "# Step 1: Load and prepare normalized count data\n",
    "counts_psa <- read.csv(\"normalized_counts_HC_vs_PsA.csv\", row.names = 1, check.names = FALSE)\n",
    "counts_c19 <- read.csv(\"normalized_counts_HC_vs_C19.csv\", row.names = 1, check.names = FALSE)\n",
    "\n",
    "# Find common genes\n",
    "common_genes <- intersect(rownames(counts_psa), rownames(counts_c19))\n",
    "cat(\"Number of common genes:\", length(common_genes), \"\\n\")\n",
    "\n",
    "# Subset to common genes\n",
    "counts_psa <- counts_psa[common_genes, ]\n",
    "counts_c19 <- counts_c19[common_genes, ]\n",
    "\n",
    "# Rename columns to avoid duplicates\n",
    "colnames(counts_psa) <- paste0(colnames(counts_psa), \".PsA\")\n",
    "colnames(counts_c19) <- paste0(colnames(counts_c19), \".C19\")\n",
    "\n",
    "# Combine datasets\n",
    "count_data <- cbind(counts_psa, counts_c19)\n",
    "\n",
    "# Prepare metadata\n",
    "samples <- colnames(count_data)\n",
    "prefixes <- sub(\"\\\\..*$\", \"\", samples)\n",
    "condition <- ifelse(grepl(\"^HC\", prefixes, ignore.case = TRUE), \"Healthy\",\n",
    "                    ifelse(grepl(\"^C\", prefixes, ignore.case = TRUE), \"Covid\", \"PsA\"))\n",
    "col_data <- data.frame(\n",
    "  sample = samples,\n",
    "  condition = factor(condition, levels = c(\"Healthy\", \"PsA\", \"Covid\")),\n",
    "  row.names = samples\n",
    ")\n",
    "cat(\"Sample counts:\\n\")\n",
    "print(table(col_data$condition))\n",
    "\n",
    "# Filter top 25% of genes by variance\n",
    "variances <- rowVars(as.matrix(count_data))\n",
    "var_threshold <- quantile(variances, 0.75)\n",
    "high_var_genes <- names(variances[variances >= var_threshold])\n",
    "count_data <- count_data[high_var_genes, ]\n",
    "cat(\"Selected\", length(high_var_genes), \"genes with top 25% variance\\n\")\n",
    "\n",
    "# Verify count_data dimensions and content\n",
    "cat(\"count_data dimensions:\", dim(count_data), \"\\n\")\n",
    "cat(\"First few row names (genes):\", head(rownames(count_data), 5), \"\\n\")\n",
    "cat(\"First few column names (samples):\", head(colnames(count_data), 5), \"\\n\")\n",
    "cat(\"Any missing values:\", sum(is.na(count_data)), \"\\n\")\n",
    "cat(\"Data type check:\", is.numeric(as.matrix(count_data)), \"\\n\")\n",
    "\n",
    "# Step 2: WGCNA Pipeline\n",
    "# Check data quality\n",
    "gsg <- goodSamplesGenes(count_data, verbose = 3)\n",
    "if (!gsg$allOK) {\n",
    "  count_data <- count_data[gsg$goodGenes, gsg$goodSamples, drop = FALSE]\n",
    "  col_data <- col_data[gsg$goodSamples, , drop = FALSE]\n",
    "  cat(\"Removed\", sum(!gsg$goodGenes), \"genes and\", sum(!gsg$goodSamples), \"samples\\n\")\n",
    "}\n",
    "\n",
    "# Transpose count_data (samples as rows, genes as columns for WGCNA)\n",
    "count_data <- t(count_data)\n",
    "cat(\"Transposed count_data dimensions:\", dim(count_data), \"\\n\")\n",
    "\n",
    "# Choose soft-thresholding power\n",
    "powers <- c(1:10, seq(12, 20, by = 2))\n",
    "sft <- pickSoftThreshold(count_data, powerVector = powers, verbose = 5)\n",
    "power <- sft$powerEstimate\n",
    "if (is.na(power)) {\n",
    "  power <- 6  # Default if no suitable power found\n",
    "}\n",
    "cat(\"Selected soft-thresholding power:\", power, \"\\n\")\n",
    "\n",
    "# Single-block WGCNA\n",
    "cat(\"Running single-block WGCNA\\n\")\n",
    "adj <- adjacency(count_data, power = power, type = \"unsigned\")\n",
    "TOM <- TOMsimilarity(adj, TOMType = \"unsigned\", verbose = 5)\n",
    "dissTOM <- 1 - TOM\n",
    "geneTree <- hclust(as.dist(dissTOM), method = \"average\")\n",
    "dynamicMods <- cutreeDynamic(\n",
    "  dendro = geneTree,\n",
    "  distM = dissTOM,\n",
    "  deepSplit = 2,\n",
    "  pamRespectsDendro = FALSE,\n",
    "  minClusterSize = 30\n",
    ")\n",
    "module_colors <- labels2colors(dynamicMods)\n",
    "cat(\"Length of module_colors:\", length(module_colors), \"\\n\")\n",
    "\n",
    "# Verify module colors length\n",
    "if (length(module_colors) != ncol(count_data)) {\n",
    "  stop(\"Error: module_colors length (\", length(module_colors), \n",
    "       \") does not match number of genes (\", ncol(count_data), \")\")\n",
    "}\n",
    "\n",
    "# Calculate module eigengenes\n",
    "MEs <- moduleEigengenes(count_data, colors = module_colors)$eigengenes\n",
    "\n",
    "# Extract module assignments\n",
    "module_assignments <- data.frame(Gene = colnames(count_data), Module = module_colors)\n",
    "\n",
    "# Print module sizes for debugging\n",
    "cat(\"Module sizes:\\n\")\n",
    "print(table(module_assignments$Module))\n",
    "\n",
    "# Step 3: Correlate modules with traits\n",
    "trait_data <- data.frame(\n",
    "  Healthy = as.numeric(col_data$condition == \"Healthy\"),\n",
    "  PsA = as.numeric(col_data$condition == \"PsA\"),\n",
    "  Covid = as.numeric(col_data$condition == \"Covid\"),\n",
    "  row.names = col_data$sample\n",
    ")\n",
    "\n",
    "module_trait_cor <- cor(MEs, trait_data, use = \"p\")\n",
    "module_trait_pval <- corPvalueStudent(module_trait_cor, nrow(count_data))\n",
    "\n",
    "# Identify modules associated with PsA and Covid\n",
    "psa_module <- names(MEs)[which.max(abs(module_trait_cor[, \"PsA\"]))]\n",
    "covid_module <- names(MEs)[which.max(abs(module_trait_cor[, \"Covid\"]))]\n",
    "cat(\"PsA-associated module:\", psa_module, \"\\n\")\n",
    "cat(\"Covid-associated module:\", covid_module, \"\\n\")\n",
    "\n",
    "# Step 4: Overlap modules with DEGs\n",
    "degs_psa <- read.csv(\"significant_degs_HC_vs_PSA.csv\")\n",
    "degs_c19 <- read.csv(\"significant_degs_HC_vs_C19.csv\")\n",
    "\n",
    "# Get genes in PsA and Covid modules\n",
    "psa_module_color <- gsub(\"ME\", \"\", psa_module)  # e.g., \"blue\"\n",
    "covid_module_color <- gsub(\"ME\", \"\", covid_module)  # e.g., \"yellow\"\n",
    "psa_module_genes <- module_assignments$Gene[module_assignments$Module == psa_module_color]\n",
    "covid_module_genes <- module_assignments$Gene[module_assignments$Module == covid_module_color]\n",
    "\n",
    "# Print number of genes in each module for debugging\n",
    "cat(\"Number of genes in PsA module (\", psa_module_color, \"):\", length(psa_module_genes), \"\\n\")\n",
    "cat(\"Number of genes in Covid module (\", covid_module_color, \"):\", length(covid_module_genes), \"\\n\")\n",
    "\n",
    "# Find overlaps\n",
    "psa_overlap <- intersect(psa_module_genes, degs_psa$Gene)\n",
    "covid_overlap <- intersect(covid_module_genes, degs_c19$Gene)\n",
    "cat(\"PsA module-DEG overlap:\", length(psa_overlap), \"genes\\n\")\n",
    "cat(\"Covid module-DEG overlap:\", length(covid_overlap), \"genes\\n\")\n",
    "\n",
    "# Step 5: Create output files\n",
    "if (length(psa_overlap) > 0) {\n",
    "  psa_output <- degs_psa[degs_psa$Gene %in% psa_overlap, ]\n",
    "  psa_counts <- t(count_data)[psa_overlap, , drop = FALSE]  # Transpose back for counts\n",
    "  psa_output <- cbind(psa_output, psa_counts[match(psa_output$Gene, rownames(psa_counts)), ])\n",
    "  write.csv(psa_output, \"WCGNA_DEG_PSA.csv\", row.names = FALSE)\n",
    "} else {\n",
    "  cat(\"No PsA module-DEG overlap; skipping WCGNA_DEG_PSA.csv\\n\")\n",
    "}\n",
    "\n",
    "if (length(covid_overlap) > 0) {\n",
    "  covid_output <- degs_c19[degs_c19$Gene %in% covid_overlap, ]\n",
    "  covid_counts <- t(count_data)[covid_overlap, , drop = FALSE]  # Transpose back for counts\n",
    "  covid_output <- cbind(covid_output, covid_counts[match(covid_output$Gene, rownames(covid_counts)), ])\n",
    "  write.csv(covid_output, \"WCGNA_DEG_LC.csv\", row.names = FALSE)\n",
    "} else {\n",
    "  cat(\"No Covid module-DEG overlap; skipping WCGNA_DEG_LC.csv\\n\")\n",
    "}\n",
    "\n",
    "cat(\"Output files generation complete\\n\")"
   ]
  },
  {
   "cell_type": "code",
   "execution_count": 9,
   "id": "1308ffbf-6287-48eb-8ba0-f436fa8d876c",
   "metadata": {},
   "outputs": [
    {
     "name": "stdout",
     "output_type": "stream",
     "text": [
      "Number of common genes between PsA and Covid DEG overlaps: 0 \n",
      "No common genes found\n"
     ]
    }
   ],
   "source": [
    "# Load WCGNA DEG output files\n",
    "psa_deg <- read.csv(\"WCGNA_DEG_PsA.csv\")\n",
    "covid_deg <- read.csv(\"WCGNA_DEG_LC.csv\")\n",
    "\n",
    "# Extract genes\n",
    "psa_genes <- psa_deg$Gene\n",
    "covid_genes <- covid_deg$Gene\n",
    "\n",
    "# Find common genes\n",
    "common_genes <- intersect(psa_genes, covid_genes)\n",
    "\n",
    "# Print results\n",
    "cat(\"Number of common genes between PsA and Covid DEG overlaps:\", length(common_genes), \"\\n\")\n",
    "if (length(common_genes) > 0) {\n",
    "  cat(\"Common genes:\\n\")\n",
    "  print(common_genes)\n",
    "  # Save to CSV\n",
    "  write.csv(data.frame(Gene = common_genes), \"WCGNA_common_DEG_PsA_Covid.csv\", row.names = FALSE)\n",
    "  cat(\"Common genes saved to WCGNA_common_DEG_PsA_Covid.csv\\n\")\n",
    "} else {\n",
    "  cat(\"No common genes found\\n\")\n",
    "}"
   ]
  },
  {
   "cell_type": "code",
   "execution_count": null,
   "id": "483c10ae-b5f5-4b1f-a8ff-7e47b8793dc1",
   "metadata": {},
   "outputs": [],
   "source": []
  }
 ],
 "metadata": {
  "kernelspec": {
   "display_name": "R-ker",
   "language": "R",
   "name": "r"
  },
  "language_info": {
   "codemirror_mode": "r",
   "file_extension": ".r",
   "mimetype": "text/x-r-source",
   "name": "R",
   "pygments_lexer": "r",
   "version": "4.2.0"
  }
 },
 "nbformat": 4,
 "nbformat_minor": 5
}
