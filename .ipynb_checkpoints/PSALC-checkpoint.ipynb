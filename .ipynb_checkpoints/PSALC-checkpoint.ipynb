{
 "cells": [
  {
   "cell_type": "markdown",
   "id": "73da361d-e3c8-4003-a368-78009b5a4aac",
   "metadata": {},
   "source": [
    "## Data Preprocessing"
   ]
  },
  {
   "cell_type": "markdown",
   "id": "4877dd84-b909-45a5-beee-8f9a31fd24f1",
   "metadata": {
    "jp-MarkdownHeadingCollapsed": true
   },
   "source": [
    "### LC"
   ]
  },
  {
   "cell_type": "code",
   "execution_count": 3,
   "id": "32ba4402-b7fd-4d0a-9860-f25bd64b88f0",
   "metadata": {},
   "outputs": [
    {
     "name": "stdout",
     "output_type": "stream",
     "text": [
      "         Symbol  HC1  HC2  HC3  HC4  HC5  LC1  HC6  HC7  LC2  ...  LC16  LC17  \\\n",
      "0         OR4F5    0    0    0    0    0    0    0    0    0  ...     0     0   \n",
      "1  LOC112268260    0   32    9   11   14   25   61    8   16  ...    17    17   \n",
      "2        OR4F29    0    0    0    0    0    0    0    0    0  ...     0     0   \n",
      "3  LOC105378947    0    2    1    1    0    2   19    2    0  ...     1     0   \n",
      "4        OR4F16    0   13    3    9    3    5   29    8    5  ...    10    13   \n",
      "\n",
      "   LC18  LC19  HC12  HC13  LC20  LC21  LC22  LC23  \n",
      "0     0     0     0     0     0     0     0     0  \n",
      "1    11     7    26    28    21    20    28    14  \n",
      "2     0     0     1     0     0     0     0     0  \n",
      "3     0     0     1     4     1     0     2     2  \n",
      "4     1     3    12    18    16    15     9     6  \n",
      "\n",
      "[5 rows x 37 columns]\n"
     ]
    },
    {
     "name": "stderr",
     "output_type": "stream",
     "text": [
      "C:\\Users\\user\\AppData\\Local\\Temp\\ipykernel_13460\\4227129484.py:5: DtypeWarning: Columns (8,9) have mixed types. Specify dtype option on import or set low_memory=False.\n",
      "  annot_df = pd.read_csv(annot_file, sep='\\t')\n"
     ]
    }
   ],
   "source": [
    "import pandas as pd\n",
    "\n",
    "# Step 1: Read the annotation file\n",
    "annot_file = 'LC/Human.GRCh38.p13.annot.tsv'\n",
    "annot_df = pd.read_csv(annot_file, sep='\\t')\n",
    "\n",
    "# Step 2: Filter for protein-coding genes\n",
    "protein_coding_df = annot_df[annot_df['GeneType'] == 'protein-coding'][['GeneID', 'Symbol']]\n",
    "\n",
    "# Step 3: Read the second TSV file\n",
    "data_file = 'LC/GSE224615_raw_counts_GRCh38.p13_NCBI.tsv'  # Replace with your actual file name\n",
    "data_df = pd.read_csv(data_file, sep='\\t')\n",
    "\n",
    "# Step 4: Merge the dataframes on GeneID\n",
    "merged_df = pd.merge(data_df, protein_coding_df, on='GeneID', how='inner')\n",
    "\n",
    "# Step 5: Drop GeneID and keep Symbol\n",
    "final_df = merged_df.drop(columns=['GeneID'])\n",
    "\n",
    "# Step 6: Reorder columns to have Symbol first\n",
    "cols = ['Symbol'] + [col for col in final_df.columns if col != 'Symbol']\n",
    "final_df = final_df[cols]\n",
    "\n",
    "# Step 7: Save the result to a new TSV file\n",
    "final_df.to_csv('LC/GSE224615_raw_counts_GRCh38.p13_NCBI_processed.tsv', sep='\\t', index=False)\n",
    "\n",
    "# Optional: Display the first few rows\n",
    "print(final_df.head())"
   ]
  },
  {
   "cell_type": "code",
   "execution_count": 4,
   "id": "7dae3ea4-7fba-4daa-a311-3352f14ffcd8",
   "metadata": {},
   "outputs": [
    {
     "name": "stdout",
     "output_type": "stream",
     "text": [
      "         Symbol  HC1  HC2  HC3  HC4  HC5  HC6  HC7  LC1  LC2  LC3  LC4  LC5  \\\n",
      "0         OR4F5    0    0    0    0    0    0    0    0    0    0    0    0   \n",
      "1  LOC112268260    2    3    3    6    0    5    3   13    7    5    3    5   \n",
      "2        OR4F29    0    0    0    0    0    0    0    0    0    0    0    0   \n",
      "3  LOC105378947    0    1    0    0    1    3    0    1    0    0    0    1   \n",
      "4        OR4F16    1    0    1    0    0    0    1    1    1    1    1    1   \n",
      "\n",
      "   LC6  LC7  LC8  LC9  LC10  LC11  \n",
      "0    0    0    0    0     0     0  \n",
      "1    9    2    8    5     6     5  \n",
      "2    0    0    0    0     0     0  \n",
      "3    1    1    1    1     1     0  \n",
      "4    0    0    1    1     1     1  \n"
     ]
    }
   ],
   "source": [
    "# Step 3: Read the second TSV file\n",
    "data_file = 'LC/GSE251849_raw_counts_GRCh38.p13_NCBI.tsv'  # Replace with your actual file name\n",
    "data_df = pd.read_csv(data_file, sep='\\t')\n",
    "\n",
    "# Step 4: Merge the dataframes on GeneID\n",
    "merged_df = pd.merge(data_df, protein_coding_df, on='GeneID', how='inner')\n",
    "\n",
    "# Step 5: Drop GeneID and keep Symbol\n",
    "final_df = merged_df.drop(columns=['GeneID'])\n",
    "\n",
    "# Step 6: Reorder columns to have Symbol first\n",
    "cols = ['Symbol'] + [col for col in final_df.columns if col != 'Symbol']\n",
    "final_df = final_df[cols]\n",
    "\n",
    "# Step 7: Save the result to a new TSV file\n",
    "final_df.to_csv('LC/GSE251849_raw_counts_GRCh38.p13_NCBI_processed.tsv', sep='\\t', index=False)\n",
    "\n",
    "# Optional: Display the first few rows\n",
    "print(final_df.head())"
   ]
  },
  {
   "cell_type": "markdown",
   "id": "9fce464c-2fed-48a8-8396-5b5123906e18",
   "metadata": {
    "jp-MarkdownHeadingCollapsed": true
   },
   "source": [
    "### PsA"
   ]
  },
  {
   "cell_type": "code",
   "execution_count": 9,
   "id": "d6730f4a-e56c-4c47-a526-3e153ed35a2b",
   "metadata": {},
   "outputs": [
    {
     "name": "stderr",
     "output_type": "stream",
     "text": [
      "C:\\Users\\user\\AppData\\Local\\Temp\\ipykernel_13460\\936715413.py:6: DtypeWarning: Columns (8,9) have mixed types. Specify dtype option on import or set low_memory=False.\n",
      "  annot_df = pd.read_csv(annot_file, sep='\\t')\n",
      "Input sequence provided is already in string format. No operation performed\n",
      "Input sequence provided is already in string format. No operation performed\n"
     ]
    },
    {
     "name": "stdout",
     "output_type": "stream",
     "text": [
      "Annotation file columns: ['GeneID', 'Symbol', 'Description', 'Synonyms', 'GeneType', 'EnsemblGeneID', 'Status', 'ChrAcc', 'ChrStart', 'ChrStop', 'Orientation', 'Length', 'GOFunctionID', 'GOProcessID', 'GOComponentID', 'GOFunction', 'GOProcess', 'GOComponent']\n",
      "Unique GeneType values: ['pseudo' 'ncRNA' 'protein-coding' nan 'snoRNA' 'snRNA' 'tRNA' 'other'\n",
      " 'unknown' 'rRNA' 'scRNA']\n",
      "Number of protein-coding genes: 19416\n",
      "Missing Symbols in protein-coding annotation: 0\n",
      "CSV columns: ['EnsemblGeneID', 'HC1', 'HC2', 'HC3', 'HC4', 'HC5', 'HC6', 'HC7', 'HC8', 'HC9', 'PA1', 'PA2', 'PA3', 'PA4', 'PA5', 'PA6', 'PA7', 'PA8', 'PA9', 'PA10', 'PA11', 'PA12', 'PA13', 'PA14', 'PA15', 'PA16', 'PA17', 'PA18']\n",
      "Sample EnsemblGeneID: ['ENSG00000282222', 'ENSG00000282221', 'ENSG00000111671', 'ENSG00000110514', 'ENSG00000086015']\n",
      "Total genes in CSV: 58302\n",
      "Rows after merge: 58313\n",
      "Missing Symbols after merge: 39136\n",
      "Number of unmatched EnsemblGeneID: 39136\n",
      "Sample unmatched EnsemblGeneID: ['ENSG00000282222', 'ENSG00000282221', 'ENSG00000211769', 'ENSG00000211768', 'ENSG00000211767']\n",
      "Querying 39136 missing Ensembl IDs with mygene...\n"
     ]
    },
    {
     "name": "stderr",
     "output_type": "stream",
     "text": [
      "30 input query terms found dup hits:\t[('ENSG00000261600', 2), ('ENSG00000277927', 3), ('ENSG00000233656', 2), ('ENSG00000278932', 3), ('E\n",
      "1592 input query terms found no hit:\t['ENSG00000262558', 'ENSG00000262554', 'ENSG00000250567', 'ENSG00000283689', 'ENSG00000259166', 'ENS\n"
     ]
    },
    {
     "name": "stdout",
     "output_type": "stream",
     "text": [
      "Retrieved symbols from mygene: 39191\n",
      "Missing Symbols after mygene: 14027\n",
      "CSV with Symbols saved as 'PSA/GSE205748_read_count_processed.csv'\n",
      "  Symbol   HC1   HC2   HC3   HC4   HC5   HC6   HC7   HC8   HC9  ...   PA9  \\\n",
      "0    NaN     0     0     0     0     0     0     0     0     0  ...     0   \n",
      "1    NaN    17    16    10    27    31    27    23    22    21  ...    31   \n",
      "2  SPSB2   157   228   245   274   253   232   327   319   262  ...   151   \n",
      "3   MADD  1308  1727  1989  1017  2042  1662  2042  2075  2106  ...  1697   \n",
      "4  MAST2   822  1229  1352   798  1161  1353  1801  1443  1052  ...   936   \n",
      "\n",
      "   PA10  PA11  PA12  PA13  PA14  PA15  PA16  PA17  PA18  \n",
      "0     0     0     0     0     0     0     0     0     0  \n",
      "1    22    28    15    21    28    16    26    19    18  \n",
      "2   167   250   205   159   344   205   203   222   138  \n",
      "3  1724  2058  1700  1550  1948  2188  2136  1885  1697  \n",
      "4   883   834   667   601   899   750   881   734   832  \n",
      "\n",
      "[5 rows x 28 columns]\n",
      "Unmatched EnsemblGeneID saved to 'PSA/unmatched_ensembl_ids.csv'\n"
     ]
    }
   ],
   "source": [
    "import pandas as pd\n",
    "import mygene\n",
    "\n",
    "# Step 1: Read the annotation file and filter for protein-coding genes\n",
    "annot_file = 'LC/Human.GRCh38.p13.annot.tsv'\n",
    "annot_df = pd.read_csv(annot_file, sep='\\t')\n",
    "\n",
    "# Debug: Check annotation file columns and unique GeneType values\n",
    "print(\"Annotation file columns:\", annot_df.columns.tolist())\n",
    "print(\"Unique GeneType values:\", annot_df['GeneType'].unique())\n",
    "print(\"Number of protein-coding genes:\", len(annot_df[annot_df['GeneType'] == 'protein-coding']))\n",
    "\n",
    "# Filter for protein-coding genes\n",
    "protein_coding_df = annot_df[annot_df['GeneType'] == 'protein-coding'][['EnsemblGeneID', 'Symbol']]\n",
    "# Debug: Check for missing Symbols in annotation\n",
    "print(\"Missing Symbols in protein-coding annotation:\", protein_coding_df['Symbol'].isna().sum())\n",
    "\n",
    "# Step 2: Read the CSV file\n",
    "csv_file = 'PSA/GSE205748_read_counts.csv'\n",
    "ensembl_df = pd.read_csv(csv_file, sep='\\t')\n",
    "ensembl_df.rename(columns={'ID': 'EnsemblGeneID'}, inplace=True)\n",
    "\n",
    "# Debug: Check CSV columns and sample EnsemblGeneID\n",
    "print(\"CSV columns:\", ensembl_df.columns.tolist())\n",
    "print(\"Sample EnsemblGeneID:\", ensembl_df['EnsemblGeneID'].head().tolist())\n",
    "print(\"Total genes in CSV:\", len(ensembl_df))\n",
    "\n",
    "# Step 3: Merge to map EnsemblGeneID to Symbol (use left join to keep all CSV rows)\n",
    "merged_ensembl_df = pd.merge(ensembl_df, protein_coding_df, on='EnsemblGeneID', how='left')\n",
    "\n",
    "# Debug: Check merge results\n",
    "print(\"Rows after merge:\", len(merged_ensembl_df))\n",
    "print(\"Missing Symbols after merge:\", merged_ensembl_df['Symbol'].isna().sum())\n",
    "unmatched_ids = merged_ensembl_df[merged_ensembl_df['Symbol'].isna()]['EnsemblGeneID'].unique()\n",
    "print(\"Number of unmatched EnsemblGeneID:\", len(unmatched_ids))\n",
    "print(\"Sample unmatched EnsemblGeneID:\", unmatched_ids[:5].tolist())\n",
    "\n",
    "# Step 4: Handle missing Symbols with mygene\n",
    "if len(unmatched_ids) > 0:\n",
    "    print(f\"Querying {len(unmatched_ids)} missing Ensembl IDs with mygene...\")\n",
    "    mg = mygene.MyGeneInfo()\n",
    "    try:\n",
    "        gene_info = mg.querymany(unmatched_ids, scopes='ensembl.gene', fields='symbol', species='human', as_dataframe=True)\n",
    "        if not gene_info.empty:\n",
    "            gene_info = gene_info.reset_index()[['query', 'symbol']].rename(columns={'query': 'EnsemblGeneID', 'symbol': 'Symbol'})\n",
    "            print(\"Retrieved symbols from mygene:\", len(gene_info))\n",
    "            # Update missing Symbols\n",
    "            for _, row in gene_info.iterrows():\n",
    "                if pd.notna(row['Symbol']):\n",
    "                    merged_ensembl_df.loc[merged_ensembl_df['EnsemblGeneID'] == row['EnsemblGeneID'], 'Symbol'] = row['Symbol']\n",
    "        else:\n",
    "            print(\"No symbols retrieved from mygene.\")\n",
    "    except Exception as e:\n",
    "        print(f\"Mygene query failed: {e}\")\n",
    "\n",
    "# Debug: Final check for missing Symbols\n",
    "print(\"Missing Symbols after mygene:\", merged_ensembl_df['Symbol'].isna().sum())\n",
    "\n",
    "# Step 5: Drop EnsemblGeneID and reorder columns\n",
    "final_df = merged_ensembl_df.drop(columns=['EnsemblGeneID'])\n",
    "cols = ['Symbol'] + [col for col in final_df.columns if col != 'Symbol']\n",
    "final_df = final_df[cols]\n",
    "\n",
    "# Step 6: Save the updated CSV\n",
    "output_file = 'PSA/GSE205748_read_count_processed.csv'\n",
    "final_df.to_csv(output_file, sep=',', index=False)\n",
    "print(f\"CSV with Symbols saved as '{output_file}'\")\n",
    "print(final_df.head())\n",
    "\n",
    "# Step 7: Save unmatched IDs for inspection\n",
    "if len(unmatched_ids) > 0:\n",
    "    pd.DataFrame(unmatched_ids, columns=['EnsemblGeneID']).to_csv('PSA/unmatched_ensembl_ids.csv', index=False)\n",
    "    print(\"Unmatched EnsemblGeneID saved to 'PSA/unmatched_ensembl_ids.csv'\")"
   ]
  },
  {
   "cell_type": "code",
   "execution_count": 11,
   "id": "7c3b7f14-e679-4987-b318-b9763654bf8d",
   "metadata": {},
   "outputs": [
    {
     "name": "stderr",
     "output_type": "stream",
     "text": [
      "C:\\Users\\user\\AppData\\Local\\Temp\\ipykernel_13460\\1121881149.py:6: DtypeWarning: Columns (8,9) have mixed types. Specify dtype option on import or set low_memory=False.\n",
      "  annot_df = pd.read_csv(annot_file, sep='\\t')\n"
     ]
    },
    {
     "name": "stdout",
     "output_type": "stream",
     "text": [
      "Number of protein-coding genes in TSV: 19213\n",
      "Missing Symbols in TSV protein-coding: 0\n",
      "Number of unique EnsemblGeneID in idmap: 58302\n",
      "Missing Symbols in idmap: 14031\n",
      "Total genes in CSV: 58302\n",
      "Sample EnsemblGeneID: ['ENSG00000282222', 'ENSG00000282221', 'ENSG00000111671', 'ENSG00000110514', 'ENSG00000086015']\n",
      "Rows after TSV merge (protein-coding): 19152\n",
      "Missing Symbols after TSV merge: 0\n",
      "Number of unmatched EnsemblGeneID: 39150\n",
      "Sample unmatched EnsemblGeneID: ['ENSG00000282222', 'ENSG00000282221', 'ENSG00000211769', 'ENSG00000211768', 'ENSG00000211767']\n",
      "Protein-coding genes from idmap: 0\n",
      "CSV with Symbols saved as 'PSA/GSE205748_read_count_processed.csv'\n",
      "    Symbol   HC1   HC2   HC3   HC4   HC5   HC6   HC7   HC8   HC9  ...   PA9  \\\n",
      "0    SPSB2   157   228   245   274   253   232   327   319   262  ...   151   \n",
      "1     MADD  1308  1727  1989  1017  2042  1662  2042  2075  2106  ...  1697   \n",
      "2    MAST2   822  1229  1352   798  1161  1353  1801  1443  1052  ...   936   \n",
      "3  CSNK2A2  3221  5079  5188  5096  4190  5038  5984  6236  6713  ...  3676   \n",
      "4    ZNF32   269   463   480   504   390   635   417   359   363  ...   330   \n",
      "\n",
      "   PA10  PA11  PA12  PA13  PA14  PA15  PA16  PA17  PA18  \n",
      "0   167   250   205   159   344   205   203   222   138  \n",
      "1  1724  2058  1700  1550  1948  2188  2136  1885  1697  \n",
      "2   883   834   667   601   899   750   881   734   832  \n",
      "3  3626  3977  4600  6330  4230  4741  5594  5614  3291  \n",
      "4   219   213   180   212   305   344   232   203   280  \n",
      "\n",
      "[5 rows x 28 columns]\n",
      "Matched EnsemblGeneID saved to 'PSA/matched_ensembl_ids.csv'\n",
      "Unmatched EnsemblGeneID saved to 'PSA/unmatched_ensembl_ids.csv'\n"
     ]
    }
   ],
   "source": [
    "import pandas as pd\n",
    "import mygene\n",
    "\n",
    "# Step 1: Read and deduplicate the annotation TSV\n",
    "annot_file = 'LC/Human.GRCh38.p13.annot.tsv'\n",
    "annot_df = pd.read_csv(annot_file, sep='\\t')\n",
    "# Remove duplicates in EnsemblGeneID\n",
    "annot_df = annot_df.drop_duplicates(subset=['EnsemblGeneID'], keep='first')\n",
    "# Filter for protein-coding genes\n",
    "protein_coding_df = annot_df[annot_df['GeneType'] == 'protein-coding'][['EnsemblGeneID', 'Symbol']]\n",
    "# Strip version suffixes\n",
    "protein_coding_df['EnsemblGeneID'] = protein_coding_df['EnsemblGeneID'].str.split('.').str[0]\n",
    "print(\"Number of protein-coding genes in TSV:\", len(protein_coding_df))\n",
    "print(\"Missing Symbols in TSV protein-coding:\", protein_coding_df['Symbol'].isna().sum())\n",
    "\n",
    "# Step 2: Read and deduplicate the idmap XLSX\n",
    "idmap_file = 'PSA/idmap.xlsx'\n",
    "idmap_df = pd.read_excel(idmap_file)\n",
    "# Remove duplicates in query (EnsemblGeneID)\n",
    "idmap_df = idmap_df.drop_duplicates(subset=['query'], keep='first')\n",
    "# Rename query to EnsemblGeneID and select relevant columns\n",
    "idmap_df = idmap_df[['query', 'symbol']].rename(columns={'query': 'EnsemblGeneID', 'symbol': 'Symbol'})\n",
    "# Strip version suffixes\n",
    "idmap_df['EnsemblGeneID'] = idmap_df['EnsemblGeneID'].str.split('.').str[0]\n",
    "print(\"Number of unique EnsemblGeneID in idmap:\", len(idmap_df))\n",
    "print(\"Missing Symbols in idmap:\", idmap_df['Symbol'].isna().sum())\n",
    "\n",
    "# Step 3: Read the CSV\n",
    "csv_file = 'PSA/GSE205748_read_counts.csv'\n",
    "ensembl_df = pd.read_csv(csv_file, sep='\\t')\n",
    "ensembl_df.rename(columns={'ID': 'EnsemblGeneID'}, inplace=True)\n",
    "# Strip version suffixes\n",
    "ensembl_df['EnsemblGeneID'] = ensembl_df['EnsemblGeneID'].str.split('.').str[0]\n",
    "print(\"Total genes in CSV:\", len(ensembl_df))\n",
    "print(\"Sample EnsemblGeneID:\", ensembl_df['EnsemblGeneID'].head().tolist())\n",
    "\n",
    "# Step 4: Merge with TSV annotation (protein-coding only)\n",
    "merged_df = pd.merge(ensembl_df, protein_coding_df, on='EnsemblGeneID', how='inner')\n",
    "print(\"Rows after TSV merge (protein-coding):\", len(merged_df))\n",
    "print(\"Missing Symbols after TSV merge:\", merged_df['Symbol'].isna().sum())\n",
    "\n",
    "# Step 5: Check unmatched IDs against idmap.xlsx\n",
    "unmatched_ids = ensembl_df[~ensembl_df['EnsemblGeneID'].isin(protein_coding_df['EnsemblGeneID'])]['EnsemblGeneID'].unique()\n",
    "print(\"Number of unmatched EnsemblGeneID:\", len(unmatched_ids))\n",
    "print(\"Sample unmatched EnsemblGeneID:\", unmatched_ids[:5].tolist())\n",
    "\n",
    "# Merge unmatched IDs with idmap.xlsx\n",
    "unmatched_df = pd.DataFrame({'EnsemblGeneID': unmatched_ids})\n",
    "idmap_merged = pd.merge(unmatched_df, idmap_df, on='EnsemblGeneID', how='left')\n",
    "# Filter for protein-coding by cross-referencing with TSV GeneType\n",
    "idmap_protein_coding = idmap_merged[idmap_merged['EnsemblGeneID'].isin(protein_coding_df['EnsemblGeneID'])]\n",
    "print(\"Protein-coding genes from idmap:\", len(idmap_protein_coding))\n",
    "\n",
    "# Step 6: Combine TSV and idmap results\n",
    "# Append idmap protein-coding matches to main merge (if any)\n",
    "if not idmap_protein_coding.empty:\n",
    "    idmap_to_add = pd.merge(ensembl_df, idmap_protein_coding, on='EnsemblGeneID', how='inner')\n",
    "    idmap_to_add = idmap_to_add[ensembl_df.columns.tolist() + ['Symbol']]  # Align columns\n",
    "    merged_df = pd.concat([merged_df, idmap_to_add], ignore_index=True)\n",
    "    print(\"Rows after adding idmap protein-coding:\", len(merged_df))\n",
    "\n",
    "# Step 7: Drop EnsemblGeneID and reorder columns\n",
    "final_df = merged_df.drop(columns=['EnsemblGeneID'])\n",
    "cols = ['Symbol'] + [col for col in final_df.columns if col != 'Symbol']\n",
    "final_df = final_df[cols]\n",
    "\n",
    "# Step 8: Save the output\n",
    "output_file = 'PSA/GSE205748_read_count_processed.csv'\n",
    "final_df.to_csv(output_file, sep=',', index=False)\n",
    "print(f\"CSV with Symbols saved as '{output_file}'\")\n",
    "print(final_df.head())"
   ]
  },
  {
   "cell_type": "code",
   "execution_count": 13,
   "id": "54a0636b-450b-488f-b0bf-c96f4aac3af4",
   "metadata": {},
   "outputs": [
    {
     "name": "stdout",
     "output_type": "stream",
     "text": [
      "Duplicate Gene values: 0\n",
      "Total genes in CSV: 26485\n",
      "Sample Gene values: ['DDX11L1', 'WASH7P', 'MIR6859-3', 'MIR6859-2', 'MIR6859-1']\n",
      "Number of protein-coding genes in TSV: 19416\n",
      "Missing Symbols in TSV protein-coding: 0\n",
      "Rows after merge (protein-coding): 18060\n",
      "Missing Symbols after merge: 0\n",
      "Number of unmatched Gene values: 8425\n",
      "Sample unmatched Gene values: ['DDX11L1', 'WASH7P', 'MIR6859-3', 'MIR6859-2', 'MIR6859-1']\n",
      "Processed CSV saved as 'GSE179800_SKB-counts_processed.csv'\n",
      "   Symbol  PA1  PA2  PA3  PA4\n",
      "0   OR4F5    1    0    0    0\n",
      "1  OR4F29    0    0    0    0\n",
      "2   OR4F3    0    0    0    0\n",
      "3  OR4F16    0    0    0    0\n",
      "4  SAMD11    0    0    0    0\n",
      "Matched genes saved to 'matched_genes.csv'\n",
      "Unmatched genes saved to 'unmatched_genes.csv'\n"
     ]
    },
    {
     "name": "stderr",
     "output_type": "stream",
     "text": [
      "C:\\Users\\user\\AppData\\Local\\Temp\\ipykernel_13460\\2942116073.py:19: DtypeWarning: Columns (8,9) have mixed types. Specify dtype option on import or set low_memory=False.\n",
      "  annot_df = pd.read_csv(annot_file, sep='\\t')\n"
     ]
    }
   ],
   "source": [
    "import pandas as pd\n",
    "\n",
    "# Step 1: Read and clean the CSV\n",
    "csv_file = 'PSA/GSE179800_SKB-counts.csv'\n",
    "counts_df = pd.read_csv(csv_file)\n",
    "\n",
    "# Drop the first (index) column\n",
    "counts_df = counts_df.drop(counts_df.columns[0], axis=1)\n",
    "\n",
    "# Check for duplicates in Gene\n",
    "print(\"Duplicate Gene values:\", counts_df['Gene'].duplicated().sum())\n",
    "# Deduplicate, keeping first occurrence\n",
    "counts_df = counts_df.drop_duplicates(subset=['Gene'], keep='first')\n",
    "print(\"Total genes in CSV:\", len(counts_df))\n",
    "print(\"Sample Gene values:\", counts_df['Gene'].head().tolist())\n",
    "\n",
    "# Step 2: Read the annotation TSV and filter for protein-coding genes\n",
    "annot_file = 'LC/Human.GRCh38.p13.annot.tsv'\n",
    "annot_df = pd.read_csv(annot_file, sep='\\t')\n",
    "# Remove duplicates in Symbol\n",
    "annot_df = annot_df.drop_duplicates(subset=['Symbol'], keep='first')\n",
    "# Filter for protein-coding genes\n",
    "protein_coding_df = annot_df[annot_df['GeneType'] == 'protein-coding'][['Symbol']]\n",
    "print(\"Number of protein-coding genes in TSV:\", len(protein_coding_df))\n",
    "print(\"Missing Symbols in TSV protein-coding:\", protein_coding_df['Symbol'].isna().sum())\n",
    "\n",
    "# Step 3: Merge to keep only protein-coding genes\n",
    "merged_df = pd.merge(counts_df, protein_coding_df, left_on='Gene', right_on='Symbol', how='inner')\n",
    "print(\"Rows after merge (protein-coding):\", len(merged_df))\n",
    "print(\"Missing Symbols after merge:\", merged_df['Symbol'].isna().sum())\n",
    "\n",
    "# Step 4: Identify unmatched genes\n",
    "unmatched_genes = counts_df[~counts_df['Gene'].isin(protein_coding_df['Symbol'])]['Gene'].unique()\n",
    "print(\"Number of unmatched Gene values:\", len(unmatched_genes))\n",
    "print(\"Sample unmatched Gene values:\", unmatched_genes[:5].tolist())\n",
    "\n",
    "# Step 5: Prepare output (keep Gene column as Symbol)\n",
    "final_df = merged_df[['Gene', 'PA1', 'PA2', 'PA3', 'PA4']]\n",
    "# Rename Gene to Symbol for clarity\n",
    "final_df = final_df.rename(columns={'Gene': 'Symbol'})\n",
    "\n",
    "# Step 6: Save the output\n",
    "output_file = 'GSE179800_SKB-counts_processed.csv'\n",
    "final_df.to_csv(output_file, sep=',', index=False)\n",
    "print(f\"Processed CSV saved as '{output_file}'\")\n",
    "print(final_df.head())"
   ]
  },
  {
   "cell_type": "markdown",
   "id": "9cc0d9f0-1b8f-413f-9af2-bc00665e42bb",
   "metadata": {},
   "source": [
    "### DEG"
   ]
  },
  {
   "cell_type": "code",
   "execution_count": null,
   "id": "d86b28ec-0a51-42c4-8e3a-c97bbde25b8b",
   "metadata": {},
   "outputs": [],
   "source": []
  }
 ],
 "metadata": {
  "kernelspec": {
   "display_name": "Python 3 (ipykernel)",
   "language": "python",
   "name": "python3"
  },
  "language_info": {
   "codemirror_mode": {
    "name": "ipython",
    "version": 3
   },
   "file_extension": ".py",
   "mimetype": "text/x-python",
   "name": "python",
   "nbconvert_exporter": "python",
   "pygments_lexer": "ipython3",
   "version": "3.13.2"
  }
 },
 "nbformat": 4,
 "nbformat_minor": 5
}
